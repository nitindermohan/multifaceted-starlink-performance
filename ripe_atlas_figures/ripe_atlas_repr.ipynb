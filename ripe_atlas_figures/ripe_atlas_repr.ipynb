{
 "cells": [
  {
   "cell_type": "markdown",
   "metadata": {},
   "source": [
    "This notebook contains all the code to reproduce the figures related to RIPE Atlas data"
   ]
  },
  {
   "cell_type": "markdown",
   "metadata": {},
   "source": [
    "## Import all modules and set global variables"
   ]
  },
  {
   "cell_type": "code",
   "execution_count": 2,
   "metadata": {},
   "outputs": [
    {
     "name": "stdout",
     "output_type": "stream",
     "text": [
      "None/atlas/ripe_atlas_repr\n"
     ]
    },
    {
     "ename": "OSError",
     "evalue": "Could not open the file.",
     "output_type": "error",
     "traceback": [
      "\u001b[0;31m---------------------------------------------------------------------------\u001b[0m",
      "\u001b[0;31mOSError\u001b[0m                                   Traceback (most recent call last)",
      "Cell \u001b[0;32mIn[2], line 46\u001b[0m\n\u001b[1;32m     44\u001b[0m base_folder \u001b[38;5;241m=\u001b[39m \u001b[38;5;124mf\u001b[39m\u001b[38;5;124m\"\u001b[39m\u001b[38;5;132;01m{\u001b[39;00mdata_path_val\u001b[38;5;132;01m}\u001b[39;00m\u001b[38;5;124m/atlas/ripe_atlas_repr\u001b[39m\u001b[38;5;124m\"\u001b[39m\n\u001b[1;32m     45\u001b[0m \u001b[38;5;28mprint\u001b[39m(base_folder)\n\u001b[0;32m---> 46\u001b[0m asndb \u001b[38;5;241m=\u001b[39m \u001b[43mpyasn\u001b[49m\u001b[38;5;241;43m.\u001b[39;49m\u001b[43mpyasn\u001b[49m\u001b[43m(\u001b[49m\u001b[38;5;124;43mf\u001b[39;49m\u001b[38;5;124;43m'\u001b[39;49m\u001b[38;5;132;43;01m{\u001b[39;49;00m\u001b[43mbase_folder\u001b[49m\u001b[38;5;132;43;01m}\u001b[39;49;00m\u001b[38;5;124;43m/common/ipasn_latest.dat\u001b[39;49m\u001b[38;5;124;43m'\u001b[39;49m\u001b[43m)\u001b[49m\n\u001b[1;32m     47\u001b[0m rcParams[\u001b[38;5;124m\"\u001b[39m\u001b[38;5;124mfont.family\u001b[39m\u001b[38;5;124m\"\u001b[39m] \u001b[38;5;241m=\u001b[39m \u001b[38;5;124m\"\u001b[39m\u001b[38;5;124mCMU Sans Serif\u001b[39m\u001b[38;5;124m\"\u001b[39m\n\u001b[1;32m     48\u001b[0m rcParams[\u001b[38;5;124m\"\u001b[39m\u001b[38;5;124mfont.size\u001b[39m\u001b[38;5;124m\"\u001b[39m] \u001b[38;5;241m=\u001b[39m \u001b[38;5;241m10\u001b[39m\n",
      "File \u001b[0;32m~/Projects/Starlink/env/lib/python3.9/site-packages/pyasn/__init__.py:71\u001b[0m, in \u001b[0;36mpyasn.__init__\u001b[0;34m(self, ipasn_file, as_names_file, ipasn_string)\u001b[0m\n\u001b[1;32m     69\u001b[0m     \u001b[38;5;28mself\u001b[39m\u001b[38;5;241m.\u001b[39m_records \u001b[38;5;241m=\u001b[39m \u001b[38;5;28mself\u001b[39m\u001b[38;5;241m.\u001b[39mradix\u001b[38;5;241m.\u001b[39mload_ipasndb(\u001b[38;5;124m\"\u001b[39m\u001b[38;5;124m\"\u001b[39m, ipasn_str)\n\u001b[1;32m     70\u001b[0m \u001b[38;5;28;01melif\u001b[39;00m ipasn_file \u001b[38;5;129;01mis\u001b[39;00m \u001b[38;5;129;01mnot\u001b[39;00m \u001b[38;5;28;01mNone\u001b[39;00m:\n\u001b[0;32m---> 71\u001b[0m     \u001b[38;5;28mself\u001b[39m\u001b[38;5;241m.\u001b[39m_records \u001b[38;5;241m=\u001b[39m \u001b[38;5;28;43mself\u001b[39;49m\u001b[38;5;241;43m.\u001b[39;49m\u001b[43mradix\u001b[49m\u001b[38;5;241;43m.\u001b[39;49m\u001b[43mload_ipasndb\u001b[49m\u001b[43m(\u001b[49m\u001b[43mipasn_file\u001b[49m\u001b[43m,\u001b[49m\u001b[43m \u001b[49m\u001b[38;5;124;43m\"\u001b[39;49m\u001b[38;5;124;43m\"\u001b[39;49m\u001b[43m)\u001b[49m\n\u001b[1;32m     72\u001b[0m \u001b[38;5;28;01melif\u001b[39;00m ipasn_string \u001b[38;5;129;01mis\u001b[39;00m \u001b[38;5;129;01mnot\u001b[39;00m \u001b[38;5;28;01mNone\u001b[39;00m:\n\u001b[1;32m     73\u001b[0m     \u001b[38;5;28mself\u001b[39m\u001b[38;5;241m.\u001b[39m_records \u001b[38;5;241m=\u001b[39m \u001b[38;5;28mself\u001b[39m\u001b[38;5;241m.\u001b[39mradix\u001b[38;5;241m.\u001b[39mload_ipasndb(\u001b[38;5;124m\"\u001b[39m\u001b[38;5;124m\"\u001b[39m, ipasn_string)\n",
      "\u001b[0;31mOSError\u001b[0m: Could not open the file."
     ]
    }
   ],
   "source": [
    "import matplotlib.pyplot as plt\n",
    "import numpy as np\n",
    "import pandas as pd\n",
    "import matplotlib.font_manager as font_manager\n",
    "from matplotlib import rcParams\n",
    "import json\n",
    "import pandas as pd\n",
    "import ipaddress\n",
    "import sys\n",
    "from tqdm import tqdm\n",
    "import pyasn\n",
    "import os, glob\n",
    "from matplotlib import colors as pltColors\n",
    "import geopandas\n",
    "import cartopy.crs as ccrs\n",
    "from matplotlib.lines import Line2D\n",
    "import copy\n",
    "import collections\n",
    "import sqlite3\n",
    "import haversine as hs\n",
    "from matplotlib.patches import Patch\n",
    "from scipy import stats\n",
    "import statistics\n",
    "import shutil\n",
    "\n",
    "# Latex needs to be available in order to build the exact plots we used in the paper\n",
    "plt.rc('text', usetex=True if shutil.which('latex') else False)\n",
    "\n",
    "# We are using the tab10 colormap\n",
    "cols = plt.get_cmap(\"tab10\").colors\n",
    "\n",
    "# fe = font_manager.FontEntry(fname=\"/Users/Library/Fonts/cmu.sans-serif-medium.ttf\", name=\"CMU Sans Serif\")\n",
    "# font_manager.fontManager.ttflist.insert(0,fe)\n",
    "\n",
    "# Create the figure output dir\n",
    "os.makedirs(\"Figs\", exist_ok=True)\n",
    "\n",
    "data_path_var = \"DATA_PATH\"\n",
    "\n",
    "# Use the os.environ dictionary to access the value\n",
    "data_path_val = os.environ.get(data_path_var)\n",
    "\n",
    "base_folder = f\"{data_path_val}/atlas/ripe_atlas_repr\"\n",
    "print(base_folder)\n",
    "asndb = pyasn.pyasn(f'{base_folder}/common/ipasn_latest.dat')\n",
    "rcParams[\"font.family\"] = \"CMU Sans Serif\"\n",
    "rcParams[\"font.size\"] = 10"
   ]
  },
  {
   "cell_type": "markdown",
   "metadata": {},
   "source": [
    "## Filter RIPE Atlas traceroute data"
   ]
  },
  {
   "cell_type": "code",
   "execution_count": 6,
   "metadata": {},
   "outputs": [
    {
     "name": "stdout",
     "output_type": "stream",
     "text": [
      "./atlas/ripe_atlas_repr/traceroute/AWS_ec2_traceroute_id_58912533.json\n"
     ]
    },
    {
     "name": "stderr",
     "output_type": "stream",
     "text": [
      "100%|███████████████████████████████████████████████████████████████████████████████████████████████████| 2230/2230 [00:00<00:00, 19212.66it/s]\n"
     ]
    },
    {
     "name": "stdout",
     "output_type": "stream",
     "text": [
      "1 out of 164 files\n",
      "./atlas/ripe_atlas_repr/traceroute/AWS_ec2_traceroute_id_60491054.json\n"
     ]
    },
    {
     "name": "stderr",
     "output_type": "stream",
     "text": [
      "100%|███████████████████████████████████████████████████████████████████████████████████████████████████| 1977/1977 [00:00<00:00, 15592.85it/s]\n"
     ]
    },
    {
     "name": "stdout",
     "output_type": "stream",
     "text": [
      "2 out of 164 files\n",
      "./atlas/ripe_atlas_repr/traceroute/Set2_traceroute_file_21.json\n"
     ]
    },
    {
     "name": "stderr",
     "output_type": "stream",
     "text": [
      "100%|█████████████████████████████████████████████████████████████████████████████████████████████████| 13859/13859 [00:00<00:00, 37059.54it/s]\n"
     ]
    },
    {
     "name": "stdout",
     "output_type": "stream",
     "text": [
      "3 out of 164 files\n",
      "./atlas/ripe_atlas_repr/traceroute/AWS_ec2_traceroute_id_59887280.json\n"
     ]
    },
    {
     "name": "stderr",
     "output_type": "stream",
     "text": [
      "100%|█████████████████████████████████████████████████████████████████████████████████████████████████| 91894/91894 [00:06<00:00, 13194.30it/s]\n"
     ]
    },
    {
     "name": "stdout",
     "output_type": "stream",
     "text": [
      "4 out of 164 files\n",
      "./atlas/ripe_atlas_repr/traceroute/AWS_ec2_traceroute_id_59616988.json\n"
     ]
    },
    {
     "name": "stderr",
     "output_type": "stream",
     "text": [
      "100%|█████████████████████████████████████████████████████████████████████████████████████████████████| 10337/10337 [00:00<00:00, 15488.54it/s]\n"
     ]
    },
    {
     "name": "stdout",
     "output_type": "stream",
     "text": [
      "5 out of 164 files\n",
      "./atlas/ripe_atlas_repr/traceroute/Set2_traceroute_file_37.json\n"
     ]
    },
    {
     "name": "stderr",
     "output_type": "stream",
     "text": [
      "100%|█████████████████████████████████████████████████████████████████████████████████████████████████| 13820/13820 [00:00<00:00, 44990.51it/s]\n"
     ]
    },
    {
     "name": "stdout",
     "output_type": "stream",
     "text": [
      "6 out of 164 files\n",
      "./atlas/ripe_atlas_repr/traceroute/AWS_ec2_traceroute_id_59887279.json\n"
     ]
    },
    {
     "name": "stderr",
     "output_type": "stream",
     "text": [
      "100%|█████████████████████████████████████████████████████████████████████████████████████████████████| 91895/91895 [00:03<00:00, 24228.74it/s]\n"
     ]
    },
    {
     "name": "stdout",
     "output_type": "stream",
     "text": [
      "7 out of 164 files\n",
      "./atlas/ripe_atlas_repr/traceroute/Set3_traceroute_file_45.json\n"
     ]
    },
    {
     "name": "stderr",
     "output_type": "stream",
     "text": [
      "100%|█████████████████████████████████████████████████████████████████████████████████████████████████| 14535/14535 [00:00<00:00, 37962.08it/s]\n"
     ]
    },
    {
     "name": "stdout",
     "output_type": "stream",
     "text": [
      "8 out of 164 files\n",
      "./atlas/ripe_atlas_repr/traceroute/Set1_traceroute_file_10.json\n"
     ]
    },
    {
     "name": "stderr",
     "output_type": "stream",
     "text": [
      "100%|█████████████████████████████████████████████████████████████████████████████████████████████████| 35687/35687 [00:00<00:00, 38881.72it/s]\n"
     ]
    },
    {
     "name": "stdout",
     "output_type": "stream",
     "text": [
      "9 out of 164 files\n",
      "./atlas/ripe_atlas_repr/traceroute/AWS_ec2_traceroute_id_58912525.json\n"
     ]
    },
    {
     "name": "stderr",
     "output_type": "stream",
     "text": [
      "100%|███████████████████████████████████████████████████████████████████████████████████████████████████| 2230/2230 [00:00<00:00, 15474.83it/s]\n"
     ]
    },
    {
     "name": "stdout",
     "output_type": "stream",
     "text": [
      "10 out of 164 files\n",
      "./atlas/ripe_atlas_repr/traceroute/Set3_traceroute_file_12.json\n"
     ]
    },
    {
     "name": "stderr",
     "output_type": "stream",
     "text": [
      "100%|█████████████████████████████████████████████████████████████████████████████████████████████████| 14286/14286 [00:00<00:00, 42155.53it/s]\n"
     ]
    },
    {
     "name": "stdout",
     "output_type": "stream",
     "text": [
      "11 out of 164 files\n",
      "./atlas/ripe_atlas_repr/traceroute/Set1_traceroute_file_47.json\n"
     ]
    },
    {
     "name": "stderr",
     "output_type": "stream",
     "text": [
      "100%|█████████████████████████████████████████████████████████████████████████████████████████████████| 35684/35684 [00:00<00:00, 45817.79it/s]\n"
     ]
    },
    {
     "name": "stdout",
     "output_type": "stream",
     "text": [
      "12 out of 164 files\n",
      "./atlas/ripe_atlas_repr/traceroute/Set2_traceroute_file_1.json\n"
     ]
    },
    {
     "name": "stderr",
     "output_type": "stream",
     "text": [
      "100%|█████████████████████████████████████████████████████████████████████████████████████████████████| 13728/13728 [00:00<00:00, 29922.20it/s]\n"
     ]
    },
    {
     "name": "stdout",
     "output_type": "stream",
     "text": [
      "13 out of 164 files\n",
      "./atlas/ripe_atlas_repr/traceroute/Set3_traceroute_file_28.json\n"
     ]
    },
    {
     "name": "stderr",
     "output_type": "stream",
     "text": [
      "100%|█████████████████████████████████████████████████████████████████████████████████████████████████| 14413/14413 [00:00<00:00, 43301.79it/s]\n"
     ]
    },
    {
     "name": "stdout",
     "output_type": "stream",
     "text": [
      "14 out of 164 files\n",
      "./atlas/ripe_atlas_repr/traceroute/AWS_ec2_traceroute_id_59616992.json\n"
     ]
    },
    {
     "name": "stderr",
     "output_type": "stream",
     "text": [
      "100%|█████████████████████████████████████████████████████████████████████████████████████████████████| 10337/10337 [00:00<00:00, 14713.06it/s]\n"
     ]
    },
    {
     "name": "stdout",
     "output_type": "stream",
     "text": [
      "15 out of 164 files\n",
      "./atlas/ripe_atlas_repr/traceroute/AWS_ec2_traceroute_id_58912529.json\n"
     ]
    },
    {
     "name": "stderr",
     "output_type": "stream",
     "text": [
      "100%|███████████████████████████████████████████████████████████████████████████████████████████████████| 2230/2230 [00:00<00:00, 15538.67it/s]\n"
     ]
    },
    {
     "name": "stdout",
     "output_type": "stream",
     "text": [
      "16 out of 164 files\n",
      "./atlas/ripe_atlas_repr/traceroute/Set1_traceroute_file_30.json\n"
     ]
    },
    {
     "name": "stderr",
     "output_type": "stream",
     "text": [
      "100%|█████████████████████████████████████████████████████████████████████████████████████████████████| 36114/36114 [00:00<00:00, 48481.15it/s]\n"
     ]
    },
    {
     "name": "stdout",
     "output_type": "stream",
     "text": [
      "17 out of 164 files\n",
      "./atlas/ripe_atlas_repr/traceroute/Set2_traceroute_file_17.json\n"
     ]
    },
    {
     "name": "stderr",
     "output_type": "stream",
     "text": [
      "100%|█████████████████████████████████████████████████████████████████████████████████████████████████| 13784/13784 [00:00<00:00, 35627.22it/s]\n"
     ]
    },
    {
     "name": "stdout",
     "output_type": "stream",
     "text": [
      "18 out of 164 files\n",
      "./atlas/ripe_atlas_repr/traceroute/Set3_traceroute_file_32.json\n"
     ]
    },
    {
     "name": "stderr",
     "output_type": "stream",
     "text": [
      "100%|█████████████████████████████████████████████████████████████████████████████████████████████████| 14433/14433 [00:00<00:00, 36653.82it/s]\n"
     ]
    },
    {
     "name": "stdout",
     "output_type": "stream",
     "text": [
      "19 out of 164 files\n",
      "./atlas/ripe_atlas_repr/traceroute/Set2_traceroute_file_40.json\n"
     ]
    },
    {
     "name": "stderr",
     "output_type": "stream",
     "text": [
      "100%|█████████████████████████████████████████████████████████████████████████████████████████████████| 13693/13693 [00:00<00:00, 43043.67it/s]\n"
     ]
    },
    {
     "name": "stdout",
     "output_type": "stream",
     "text": [
      "20 out of 164 files\n",
      "./atlas/ripe_atlas_repr/traceroute/Set3_traceroute_file_6.json\n"
     ]
    },
    {
     "name": "stderr",
     "output_type": "stream",
     "text": [
      "100%|█████████████████████████████████████████████████████████████████████████████████████████████████| 14127/14127 [00:01<00:00, 11051.43it/s]\n"
     ]
    },
    {
     "name": "stdout",
     "output_type": "stream",
     "text": [
      "21 out of 164 files\n",
      "./atlas/ripe_atlas_repr/traceroute/Set3_traceroute_file_24.json\n"
     ]
    },
    {
     "name": "stderr",
     "output_type": "stream",
     "text": [
      "100%|█████████████████████████████████████████████████████████████████████████████████████████████████| 14407/14407 [00:00<00:00, 36291.41it/s]\n"
     ]
    },
    {
     "name": "stdout",
     "output_type": "stream",
     "text": [
      "22 out of 164 files\n",
      "./atlas/ripe_atlas_repr/traceroute/Set1_traceroute_file_26.json\n"
     ]
    },
    {
     "name": "stderr",
     "output_type": "stream",
     "text": [
      "100%|█████████████████████████████████████████████████████████████████████████████████████████████████| 35275/35275 [00:00<00:00, 46638.88it/s]\n"
     ]
    },
    {
     "name": "stdout",
     "output_type": "stream",
     "text": [
      "23 out of 164 files\n",
      "./atlas/ripe_atlas_repr/traceroute/Set1_traceroute_file_27.json\n"
     ]
    },
    {
     "name": "stderr",
     "output_type": "stream",
     "text": [
      "100%|█████████████████████████████████████████████████████████████████████████████████████████████████| 35316/35316 [00:00<00:00, 40602.54it/s]\n"
     ]
    },
    {
     "name": "stdout",
     "output_type": "stream",
     "text": [
      "24 out of 164 files\n",
      "./atlas/ripe_atlas_repr/traceroute/Set3_traceroute_file_25.json\n"
     ]
    },
    {
     "name": "stderr",
     "output_type": "stream",
     "text": [
      "100%|█████████████████████████████████████████████████████████████████████████████████████████████████| 14551/14551 [00:00<00:00, 36107.52it/s]\n"
     ]
    },
    {
     "name": "stdout",
     "output_type": "stream",
     "text": [
      "25 out of 164 files\n",
      "./atlas/ripe_atlas_repr/traceroute/Set2_traceroute_file_41.json\n"
     ]
    },
    {
     "name": "stderr",
     "output_type": "stream",
     "text": [
      "100%|█████████████████████████████████████████████████████████████████████████████████████████████████| 13926/13926 [00:00<00:00, 43318.78it/s]\n"
     ]
    },
    {
     "name": "stdout",
     "output_type": "stream",
     "text": [
      "26 out of 164 files\n",
      "./atlas/ripe_atlas_repr/traceroute/Set3_traceroute_file_7.json\n"
     ]
    },
    {
     "name": "stderr",
     "output_type": "stream",
     "text": [
      "100%|█████████████████████████████████████████████████████████████████████████████████████████████████| 14047/14047 [00:00<00:00, 34266.75it/s]\n"
     ]
    },
    {
     "name": "stdout",
     "output_type": "stream",
     "text": [
      "27 out of 164 files\n",
      "./atlas/ripe_atlas_repr/traceroute/Set3_traceroute_file_33.json\n"
     ]
    },
    {
     "name": "stderr",
     "output_type": "stream",
     "text": [
      "100%|█████████████████████████████████████████████████████████████████████████████████████████████████| 14526/14526 [00:00<00:00, 37187.60it/s]\n"
     ]
    },
    {
     "name": "stdout",
     "output_type": "stream",
     "text": [
      "28 out of 164 files\n",
      "./atlas/ripe_atlas_repr/traceroute/Set2_traceroute_file_16.json\n"
     ]
    },
    {
     "name": "stderr",
     "output_type": "stream",
     "text": [
      "100%|█████████████████████████████████████████████████████████████████████████████████████████████████| 13823/13823 [00:00<00:00, 43020.63it/s]\n"
     ]
    },
    {
     "name": "stdout",
     "output_type": "stream",
     "text": [
      "29 out of 164 files\n",
      "./atlas/ripe_atlas_repr/traceroute/Set1_traceroute_file_31.json\n"
     ]
    },
    {
     "name": "stderr",
     "output_type": "stream",
     "text": [
      "100%|█████████████████████████████████████████████████████████████████████████████████████████████████| 36009/36009 [00:00<00:00, 46019.07it/s]\n"
     ]
    },
    {
     "name": "stdout",
     "output_type": "stream",
     "text": [
      "30 out of 164 files\n",
      "./atlas/ripe_atlas_repr/traceroute/Set3_traceroute_file_29.json\n"
     ]
    },
    {
     "name": "stderr",
     "output_type": "stream",
     "text": [
      "100%|█████████████████████████████████████████████████████████████████████████████████████████████████| 14488/14488 [00:00<00:00, 37190.47it/s]\n"
     ]
    },
    {
     "name": "stdout",
     "output_type": "stream",
     "text": [
      "31 out of 164 files\n",
      "./atlas/ripe_atlas_repr/traceroute/Set3_traceroute_file_13.json\n"
     ]
    },
    {
     "name": "stderr",
     "output_type": "stream",
     "text": [
      "100%|█████████████████████████████████████████████████████████████████████████████████████████████████| 14412/14412 [00:00<00:00, 35789.60it/s]\n"
     ]
    },
    {
     "name": "stdout",
     "output_type": "stream",
     "text": [
      "32 out of 164 files\n",
      "./atlas/ripe_atlas_repr/traceroute/Set1_traceroute_file_46.json\n"
     ]
    },
    {
     "name": "stderr",
     "output_type": "stream",
     "text": [
      "100%|█████████████████████████████████████████████████████████████████████████████████████████████████| 35155/35155 [00:00<00:00, 36855.12it/s]\n"
     ]
    },
    {
     "name": "stdout",
     "output_type": "stream",
     "text": [
      "33 out of 164 files\n",
      "./atlas/ripe_atlas_repr/traceroute/AWS_ec2_traceroute_id_59887278.json\n"
     ]
    },
    {
     "name": "stderr",
     "output_type": "stream",
     "text": [
      "100%|█████████████████████████████████████████████████████████████████████████████████████████████████| 91897/91897 [00:05<00:00, 16225.23it/s]\n"
     ]
    },
    {
     "name": "stdout",
     "output_type": "stream",
     "text": [
      "34 out of 164 files\n",
      "./atlas/ripe_atlas_repr/traceroute/Set3_traceroute_file_44.json\n"
     ]
    },
    {
     "name": "stderr",
     "output_type": "stream",
     "text": [
      "100%|█████████████████████████████████████████████████████████████████████████████████████████████████| 14400/14400 [00:00<00:00, 43535.47it/s]\n"
     ]
    },
    {
     "name": "stdout",
     "output_type": "stream",
     "text": [
      "35 out of 164 files\n",
      "./atlas/ripe_atlas_repr/traceroute/Set1_traceroute_file_11.json\n"
     ]
    },
    {
     "name": "stderr",
     "output_type": "stream",
     "text": [
      "100%|█████████████████████████████████████████████████████████████████████████████████████████████████| 35677/35677 [00:00<00:00, 47555.12it/s]\n"
     ]
    },
    {
     "name": "stdout",
     "output_type": "stream",
     "text": [
      "36 out of 164 files\n",
      "./atlas/ripe_atlas_repr/traceroute/Set2_traceroute_file_36.json\n"
     ]
    },
    {
     "name": "stderr",
     "output_type": "stream",
     "text": [
      "100%|█████████████████████████████████████████████████████████████████████████████████████████████████| 13862/13862 [00:00<00:00, 37510.58it/s]\n"
     ]
    },
    {
     "name": "stdout",
     "output_type": "stream",
     "text": [
      "37 out of 164 files\n",
      "./atlas/ripe_atlas_repr/traceroute/AWS_ec2_traceroute_id_59887281.json\n"
     ]
    },
    {
     "name": "stderr",
     "output_type": "stream",
     "text": [
      "100%|█████████████████████████████████████████████████████████████████████████████████████████████████| 91897/91897 [00:04<00:00, 22655.72it/s]\n"
     ]
    },
    {
     "name": "stdout",
     "output_type": "stream",
     "text": [
      "38 out of 164 files\n",
      "./atlas/ripe_atlas_repr/traceroute/Set2_traceroute_file_20.json\n"
     ]
    },
    {
     "name": "stderr",
     "output_type": "stream",
     "text": [
      "100%|█████████████████████████████████████████████████████████████████████████████████████████████████| 13597/13597 [00:00<00:00, 35750.64it/s]\n"
     ]
    },
    {
     "name": "stdout",
     "output_type": "stream",
     "text": [
      "39 out of 164 files\n",
      "./atlas/ripe_atlas_repr/traceroute/AWS_ec2_traceroute_id_60491055.json\n"
     ]
    },
    {
     "name": "stderr",
     "output_type": "stream",
     "text": [
      "100%|███████████████████████████████████████████████████████████████████████████████████████████████████| 1977/1977 [00:00<00:00, 26970.95it/s]\n"
     ]
    },
    {
     "name": "stdout",
     "output_type": "stream",
     "text": [
      "40 out of 164 files\n",
      "./atlas/ripe_atlas_repr/traceroute/Set1_traceroute_file_50.json\n"
     ]
    },
    {
     "name": "stderr",
     "output_type": "stream",
     "text": [
      "100%|█████████████████████████████████████████████████████████████████████████████████████████████████| 35713/35713 [00:00<00:00, 39517.42it/s]\n"
     ]
    },
    {
     "name": "stdout",
     "output_type": "stream",
     "text": [
      "41 out of 164 files\n",
      "./atlas/ripe_atlas_repr/traceroute/Set1_traceroute_file_1.json\n"
     ]
    },
    {
     "name": "stderr",
     "output_type": "stream",
     "text": [
      "100%|█████████████████████████████████████████████████████████████████████████████████████████████████| 35498/35498 [00:01<00:00, 32498.07it/s]\n"
     ]
    },
    {
     "name": "stdout",
     "output_type": "stream",
     "text": [
      "42 out of 164 files\n",
      "./atlas/ripe_atlas_repr/traceroute/AWS_ec2_traceroute_id_59616994.json\n"
     ]
    },
    {
     "name": "stderr",
     "output_type": "stream",
     "text": [
      "100%|█████████████████████████████████████████████████████████████████████████████████████████████████| 10337/10337 [00:00<00:00, 21577.63it/s]\n"
     ]
    },
    {
     "name": "stdout",
     "output_type": "stream",
     "text": [
      "43 out of 164 files\n",
      "./atlas/ripe_atlas_repr/traceroute/Set3_traceroute_file_18.json\n"
     ]
    },
    {
     "name": "stderr",
     "output_type": "stream",
     "text": [
      "100%|█████████████████████████████████████████████████████████████████████████████████████████████████| 13938/13938 [00:00<00:00, 34613.61it/s]\n"
     ]
    },
    {
     "name": "stdout",
     "output_type": "stream",
     "text": [
      "44 out of 164 files\n",
      "./atlas/ripe_atlas_repr/traceroute/Set1_traceroute_file_36.json\n"
     ]
    },
    {
     "name": "stderr",
     "output_type": "stream",
     "text": [
      "100%|█████████████████████████████████████████████████████████████████████████████████████████████████| 34978/34978 [00:00<00:00, 46870.56it/s]\n"
     ]
    },
    {
     "name": "stdout",
     "output_type": "stream",
     "text": [
      "45 out of 164 files\n",
      "./atlas/ripe_atlas_repr/traceroute/Set2_traceroute_file_11.json\n"
     ]
    },
    {
     "name": "stderr",
     "output_type": "stream",
     "text": [
      "100%|█████████████████████████████████████████████████████████████████████████████████████████████████| 13314/13314 [00:00<00:00, 28195.26it/s]\n"
     ]
    },
    {
     "name": "stdout",
     "output_type": "stream",
     "text": [
      "46 out of 164 files\n",
      "./atlas/ripe_atlas_repr/traceroute/Set3_traceroute_file_34.json\n"
     ]
    },
    {
     "name": "stderr",
     "output_type": "stream",
     "text": [
      "100%|█████████████████████████████████████████████████████████████████████████████████████████████████| 14380/14380 [00:00<00:00, 36985.20it/s]\n"
     ]
    },
    {
     "name": "stdout",
     "output_type": "stream",
     "text": [
      "47 out of 164 files\n",
      "./atlas/ripe_atlas_repr/traceroute/Set3_traceroute_file_22.json\n"
     ]
    },
    {
     "name": "stderr",
     "output_type": "stream",
     "text": [
      "100%|█████████████████████████████████████████████████████████████████████████████████████████████████| 14709/14709 [00:00<00:00, 36774.53it/s]\n"
     ]
    },
    {
     "name": "stdout",
     "output_type": "stream",
     "text": [
      "48 out of 164 files\n",
      "./atlas/ripe_atlas_repr/traceroute/Set1_traceroute_file_20.json\n"
     ]
    },
    {
     "name": "stderr",
     "output_type": "stream",
     "text": [
      "100%|█████████████████████████████████████████████████████████████████████████████████████████████████| 36264/36264 [00:00<00:00, 40425.26it/s]\n"
     ]
    },
    {
     "name": "stdout",
     "output_type": "stream",
     "text": [
      "49 out of 164 files\n",
      "./atlas/ripe_atlas_repr/traceroute/Set1_traceroute_file_6.json\n"
     ]
    },
    {
     "name": "stderr",
     "output_type": "stream",
     "text": [
      "100%|█████████████████████████████████████████████████████████████████████████████████████████████████| 34889/34889 [00:00<00:00, 38828.71it/s]\n"
     ]
    },
    {
     "name": "stdout",
     "output_type": "stream",
     "text": [
      "50 out of 164 files\n",
      "./atlas/ripe_atlas_repr/traceroute/AWS_ec2_traceroute_id_60491052.json\n"
     ]
    },
    {
     "name": "stderr",
     "output_type": "stream",
     "text": [
      "100%|███████████████████████████████████████████████████████████████████████████████████████████████████| 1977/1977 [00:00<00:00, 26992.02it/s]\n"
     ]
    },
    {
     "name": "stdout",
     "output_type": "stream",
     "text": [
      "51 out of 164 files\n",
      "./atlas/ripe_atlas_repr/traceroute/Set2_traceroute_file_27.json\n"
     ]
    },
    {
     "name": "stderr",
     "output_type": "stream",
     "text": [
      "100%|█████████████████████████████████████████████████████████████████████████████████████████████████| 14006/14006 [00:00<00:00, 37340.48it/s]\n"
     ]
    },
    {
     "name": "stdout",
     "output_type": "stream",
     "text": [
      "52 out of 164 files\n",
      "./atlas/ripe_atlas_repr/traceroute/Set2_traceroute_file_31.json\n"
     ]
    },
    {
     "name": "stderr",
     "output_type": "stream",
     "text": [
      "100%|█████████████████████████████████████████████████████████████████████████████████████████████████| 13484/13484 [00:00<00:00, 39637.15it/s]\n"
     ]
    },
    {
     "name": "stdout",
     "output_type": "stream",
     "text": [
      "53 out of 164 files\n",
      "./atlas/ripe_atlas_repr/traceroute/Set3_traceroute_file_43.json\n"
     ]
    },
    {
     "name": "stderr",
     "output_type": "stream",
     "text": [
      "100%|█████████████████████████████████████████████████████████████████████████████████████████████████| 14267/14267 [00:00<00:00, 42550.08it/s]\n"
     ]
    },
    {
     "name": "stdout",
     "output_type": "stream",
     "text": [
      "54 out of 164 files\n",
      "./atlas/ripe_atlas_repr/traceroute/Set1_traceroute_file_16.json\n"
     ]
    },
    {
     "name": "stderr",
     "output_type": "stream",
     "text": [
      "100%|█████████████████████████████████████████████████████████████████████████████████████████████████| 35290/35290 [00:00<00:00, 46703.56it/s]\n"
     ]
    },
    {
     "name": "stdout",
     "output_type": "stream",
     "text": [
      "55 out of 164 files\n",
      "./atlas/ripe_atlas_repr/traceroute/AWS_ec2_traceroute_id_58912523.json\n"
     ]
    },
    {
     "name": "stderr",
     "output_type": "stream",
     "text": [
      "100%|███████████████████████████████████████████████████████████████████████████████████████████████████| 2230/2230 [00:00<00:00, 20710.46it/s]\n"
     ]
    },
    {
     "name": "stdout",
     "output_type": "stream",
     "text": [
      "56 out of 164 files\n",
      "./atlas/ripe_atlas_repr/traceroute/Set3_traceroute_file_14.json\n"
     ]
    },
    {
     "name": "stderr",
     "output_type": "stream",
     "text": [
      "100%|█████████████████████████████████████████████████████████████████████████████████████████████████| 14374/14374 [00:00<00:00, 35779.27it/s]\n"
     ]
    },
    {
     "name": "stdout",
     "output_type": "stream",
     "text": [
      "57 out of 164 files\n",
      "./atlas/ripe_atlas_repr/traceroute/Set1_traceroute_file_41.json\n"
     ]
    },
    {
     "name": "stderr",
     "output_type": "stream",
     "text": [
      "100%|█████████████████████████████████████████████████████████████████████████████████████████████████| 35276/35276 [00:00<00:00, 42178.72it/s]\n"
     ]
    },
    {
     "name": "stdout",
     "output_type": "stream",
     "text": [
      "58 out of 164 files\n",
      "./atlas/ripe_atlas_repr/traceroute/Set2_traceroute_file_7.json\n"
     ]
    },
    {
     "name": "stderr",
     "output_type": "stream",
     "text": [
      "100%|█████████████████████████████████████████████████████████████████████████████████████████████████| 13666/13666 [00:00<00:00, 36672.65it/s]\n"
     ]
    },
    {
     "name": "stdout",
     "output_type": "stream",
     "text": [
      "59 out of 164 files\n",
      "./atlas/ripe_atlas_repr/traceroute/Set3_traceroute_file_38.json\n"
     ]
    },
    {
     "name": "stderr",
     "output_type": "stream",
     "text": [
      "100%|█████████████████████████████████████████████████████████████████████████████████████████████████| 14424/14424 [00:00<00:00, 35399.61it/s]\n"
     ]
    },
    {
     "name": "stdout",
     "output_type": "stream",
     "text": [
      "60 out of 164 files\n",
      "./atlas/ripe_atlas_repr/traceroute/Set3_traceroute_file_39.json\n"
     ]
    },
    {
     "name": "stderr",
     "output_type": "stream",
     "text": [
      "100%|█████████████████████████████████████████████████████████████████████████████████████████████████| 14233/14233 [00:00<00:00, 41923.51it/s]\n"
     ]
    },
    {
     "name": "stdout",
     "output_type": "stream",
     "text": [
      "61 out of 164 files\n",
      "./atlas/ripe_atlas_repr/traceroute/Set2_traceroute_file_6.json\n"
     ]
    },
    {
     "name": "stderr",
     "output_type": "stream",
     "text": [
      "100%|█████████████████████████████████████████████████████████████████████████████████████████████████| 13595/13595 [00:00<00:00, 36074.66it/s]\n"
     ]
    },
    {
     "name": "stdout",
     "output_type": "stream",
     "text": [
      "62 out of 164 files\n",
      "./atlas/ripe_atlas_repr/traceroute/Set3_traceroute_file_15.json\n"
     ]
    },
    {
     "name": "stderr",
     "output_type": "stream",
     "text": [
      "100%|█████████████████████████████████████████████████████████████████████████████████████████████████| 14406/14406 [00:00<00:00, 35279.53it/s]\n"
     ]
    },
    {
     "name": "stdout",
     "output_type": "stream",
     "text": [
      "63 out of 164 files\n",
      "./atlas/ripe_atlas_repr/traceroute/Set1_traceroute_file_40.json\n"
     ]
    },
    {
     "name": "stderr",
     "output_type": "stream",
     "text": [
      "100%|█████████████████████████████████████████████████████████████████████████████████████████████████| 35689/35689 [00:00<00:00, 44967.11it/s]\n"
     ]
    },
    {
     "name": "stdout",
     "output_type": "stream",
     "text": [
      "64 out of 164 files\n",
      "./atlas/ripe_atlas_repr/traceroute/Set3_traceroute_file_42.json\n"
     ]
    },
    {
     "name": "stderr",
     "output_type": "stream",
     "text": [
      "100%|█████████████████████████████████████████████████████████████████████████████████████████████████| 14548/14548 [00:00<00:00, 43286.69it/s]\n"
     ]
    },
    {
     "name": "stdout",
     "output_type": "stream",
     "text": [
      "65 out of 164 files\n",
      "./atlas/ripe_atlas_repr/traceroute/Set1_traceroute_file_17.json\n"
     ]
    },
    {
     "name": "stderr",
     "output_type": "stream",
     "text": [
      "100%|█████████████████████████████████████████████████████████████████████████████████████████████████| 35212/35212 [00:00<00:00, 42326.64it/s]\n"
     ]
    },
    {
     "name": "stdout",
     "output_type": "stream",
     "text": [
      "66 out of 164 files\n",
      "./atlas/ripe_atlas_repr/traceroute/Set2_traceroute_file_30.json\n"
     ]
    },
    {
     "name": "stderr",
     "output_type": "stream",
     "text": [
      "100%|█████████████████████████████████████████████████████████████████████████████████████████████████| 13605/13605 [00:00<00:00, 36802.30it/s]\n"
     ]
    },
    {
     "name": "stdout",
     "output_type": "stream",
     "text": [
      "67 out of 164 files\n",
      "./atlas/ripe_atlas_repr/traceroute/Set2_traceroute_file_26.json\n"
     ]
    },
    {
     "name": "stderr",
     "output_type": "stream",
     "text": [
      "100%|█████████████████████████████████████████████████████████████████████████████████████████████████| 13799/13799 [00:00<00:00, 33884.28it/s]\n"
     ]
    },
    {
     "name": "stdout",
     "output_type": "stream",
     "text": [
      "68 out of 164 files\n",
      "./atlas/ripe_atlas_repr/traceroute/AWS_ec2_traceroute_id_60491053.json\n"
     ]
    },
    {
     "name": "stderr",
     "output_type": "stream",
     "text": [
      "100%|███████████████████████████████████████████████████████████████████████████████████████████████████| 1977/1977 [00:00<00:00, 26658.88it/s]\n"
     ]
    },
    {
     "name": "stdout",
     "output_type": "stream",
     "text": [
      "69 out of 164 files\n",
      "./atlas/ripe_atlas_repr/traceroute/Set1_traceroute_file_7.json\n"
     ]
    },
    {
     "name": "stderr",
     "output_type": "stream",
     "text": [
      "100%|█████████████████████████████████████████████████████████████████████████████████████████████████| 35377/35377 [00:00<00:00, 45688.60it/s]\n"
     ]
    },
    {
     "name": "stdout",
     "output_type": "stream",
     "text": [
      "70 out of 164 files\n",
      "./atlas/ripe_atlas_repr/traceroute/Set1_traceroute_file_21.json\n"
     ]
    },
    {
     "name": "stderr",
     "output_type": "stream",
     "text": [
      "100%|█████████████████████████████████████████████████████████████████████████████████████████████████| 35468/35468 [00:00<00:00, 47372.97it/s]\n"
     ]
    },
    {
     "name": "stdout",
     "output_type": "stream",
     "text": [
      "71 out of 164 files\n",
      "./atlas/ripe_atlas_repr/traceroute/Set3_traceroute_file_23.json\n"
     ]
    },
    {
     "name": "stderr",
     "output_type": "stream",
     "text": [
      "100%|█████████████████████████████████████████████████████████████████████████████████████████████████| 14308/14308 [00:00<00:00, 34341.45it/s]\n"
     ]
    },
    {
     "name": "stdout",
     "output_type": "stream",
     "text": [
      "72 out of 164 files\n",
      "./atlas/ripe_atlas_repr/traceroute/Set3_traceroute_file_1.json\n"
     ]
    },
    {
     "name": "stderr",
     "output_type": "stream",
     "text": [
      "100%|█████████████████████████████████████████████████████████████████████████████████████████████████| 14418/14418 [00:00<00:00, 34792.12it/s]\n"
     ]
    },
    {
     "name": "stdout",
     "output_type": "stream",
     "text": [
      "73 out of 164 files\n",
      "./atlas/ripe_atlas_repr/traceroute/Set3_traceroute_file_35.json\n"
     ]
    },
    {
     "name": "stderr",
     "output_type": "stream",
     "text": [
      "100%|█████████████████████████████████████████████████████████████████████████████████████████████████| 14484/14484 [00:00<00:00, 35239.85it/s]\n"
     ]
    },
    {
     "name": "stdout",
     "output_type": "stream",
     "text": [
      "74 out of 164 files\n",
      "./atlas/ripe_atlas_repr/traceroute/Set2_traceroute_file_10.json\n"
     ]
    },
    {
     "name": "stderr",
     "output_type": "stream",
     "text": [
      "100%|██████████████████████████████████████████████████████████████████████████████████████████████████| 13864/13864 [00:02<00:00, 5443.15it/s]\n"
     ]
    },
    {
     "name": "stdout",
     "output_type": "stream",
     "text": [
      "75 out of 164 files\n",
      "./atlas/ripe_atlas_repr/traceroute/Set1_traceroute_file_37.json\n"
     ]
    },
    {
     "name": "stderr",
     "output_type": "stream",
     "text": [
      "100%|█████████████████████████████████████████████████████████████████████████████████████████████████| 35961/35961 [00:00<00:00, 38815.03it/s]\n"
     ]
    },
    {
     "name": "stdout",
     "output_type": "stream",
     "text": [
      "76 out of 164 files\n",
      "./atlas/ripe_atlas_repr/traceroute/AWS_ec2_traceroute_id_60491049.json\n"
     ]
    },
    {
     "name": "stderr",
     "output_type": "stream",
     "text": [
      "100%|███████████████████████████████████████████████████████████████████████████████████████████████████| 1977/1977 [00:00<00:00, 27000.37it/s]\n"
     ]
    },
    {
     "name": "stdout",
     "output_type": "stream",
     "text": [
      "77 out of 164 files\n",
      "./atlas/ripe_atlas_repr/traceroute/Set3_traceroute_file_19.json\n"
     ]
    },
    {
     "name": "stderr",
     "output_type": "stream",
     "text": [
      "100%|█████████████████████████████████████████████████████████████████████████████████████████████████| 14467/14467 [00:00<00:00, 34988.91it/s]\n"
     ]
    },
    {
     "name": "stdout",
     "output_type": "stream",
     "text": [
      "78 out of 164 files\n",
      "./atlas/ripe_atlas_repr/traceroute/Set1_traceroute_file_22.json\n"
     ]
    },
    {
     "name": "stderr",
     "output_type": "stream",
     "text": [
      "100%|█████████████████████████████████████████████████████████████████████████████████████████████████| 36766/36766 [00:00<00:00, 41219.01it/s]\n"
     ]
    },
    {
     "name": "stdout",
     "output_type": "stream",
     "text": [
      "79 out of 164 files\n",
      "./atlas/ripe_atlas_repr/traceroute/Set3_traceroute_file_20.json\n"
     ]
    },
    {
     "name": "stderr",
     "output_type": "stream",
     "text": [
      "100%|█████████████████████████████████████████████████████████████████████████████████████████████████| 14432/14432 [00:00<00:00, 41669.33it/s]\n"
     ]
    },
    {
     "name": "stdout",
     "output_type": "stream",
     "text": [
      "80 out of 164 files\n",
      "./atlas/ripe_atlas_repr/traceroute/Set2_traceroute_file_44.json\n"
     ]
    },
    {
     "name": "stderr",
     "output_type": "stream",
     "text": [
      "100%|█████████████████████████████████████████████████████████████████████████████████████████████████| 14071/14071 [00:00<00:00, 35223.91it/s]\n"
     ]
    },
    {
     "name": "stdout",
     "output_type": "stream",
     "text": [
      "81 out of 164 files\n",
      "./atlas/ripe_atlas_repr/traceroute/Set3_traceroute_file_2.json\n"
     ]
    },
    {
     "name": "stderr",
     "output_type": "stream",
     "text": [
      "100%|█████████████████████████████████████████████████████████████████████████████████████████████████| 14452/14452 [00:00<00:00, 34881.59it/s]\n"
     ]
    },
    {
     "name": "stdout",
     "output_type": "stream",
     "text": [
      "82 out of 164 files\n",
      "./atlas/ripe_atlas_repr/traceroute/Set3_traceroute_file_36.json\n"
     ]
    },
    {
     "name": "stderr",
     "output_type": "stream",
     "text": [
      "100%|█████████████████████████████████████████████████████████████████████████████████████████████████| 14458/14458 [00:00<00:00, 26924.85it/s]\n"
     ]
    },
    {
     "name": "stdout",
     "output_type": "stream",
     "text": [
      "83 out of 164 files\n",
      "./atlas/ripe_atlas_repr/traceroute/Set2_traceroute_file_13.json\n"
     ]
    },
    {
     "name": "stderr",
     "output_type": "stream",
     "text": [
      "100%|█████████████████████████████████████████████████████████████████████████████████████████████████| 13657/13657 [00:00<00:00, 38094.08it/s]\n"
     ]
    },
    {
     "name": "stdout",
     "output_type": "stream",
     "text": [
      "84 out of 164 files\n",
      "./atlas/ripe_atlas_repr/traceroute/Set2_traceroute_file_9.json\n"
     ]
    },
    {
     "name": "stderr",
     "output_type": "stream",
     "text": [
      "100%|█████████████████████████████████████████████████████████████████████████████████████████████████| 13798/13798 [00:00<00:00, 37978.90it/s]\n"
     ]
    },
    {
     "name": "stdout",
     "output_type": "stream",
     "text": [
      "85 out of 164 files\n",
      "./atlas/ripe_atlas_repr/traceroute/Set1_traceroute_file_34.json\n"
     ]
    },
    {
     "name": "stderr",
     "output_type": "stream",
     "text": [
      "100%|█████████████████████████████████████████████████████████████████████████████████████████████████| 35606/35606 [00:00<00:00, 44722.78it/s]\n"
     ]
    },
    {
     "name": "stdout",
     "output_type": "stream",
     "text": [
      "86 out of 164 files\n",
      "./atlas/ripe_atlas_repr/traceroute/Set1_traceroute_file_18.json\n"
     ]
    },
    {
     "name": "stderr",
     "output_type": "stream",
     "text": [
      "100%|█████████████████████████████████████████████████████████████████████████████████████████████████| 35140/35140 [00:00<00:00, 39003.45it/s]\n"
     ]
    },
    {
     "name": "stdout",
     "output_type": "stream",
     "text": [
      "87 out of 164 files\n",
      "./atlas/ripe_atlas_repr/traceroute/AWS_ec2_traceroute_id_59616996.json\n"
     ]
    },
    {
     "name": "stderr",
     "output_type": "stream",
     "text": [
      "100%|█████████████████████████████████████████████████████████████████████████████████████████████████| 10337/10337 [00:00<00:00, 20155.40it/s]\n"
     ]
    },
    {
     "name": "stdout",
     "output_type": "stream",
     "text": [
      "88 out of 164 files\n",
      "./atlas/ripe_atlas_repr/traceroute/Set2_traceroute_file_29.json\n"
     ]
    },
    {
     "name": "stderr",
     "output_type": "stream",
     "text": [
      "100%|█████████████████████████████████████████████████████████████████████████████████████████████████| 13464/13464 [00:00<00:00, 34846.70it/s]\n"
     ]
    },
    {
     "name": "stdout",
     "output_type": "stream",
     "text": [
      "89 out of 164 files\n",
      "./atlas/ripe_atlas_repr/traceroute/Set1_traceroute_file_8.json\n"
     ]
    },
    {
     "name": "stderr",
     "output_type": "stream",
     "text": [
      "100%|█████████████████████████████████████████████████████████████████████████████████████████████████| 36182/36182 [00:00<00:00, 38815.01it/s]\n"
     ]
    },
    {
     "name": "stdout",
     "output_type": "stream",
     "text": [
      "90 out of 164 files\n",
      "./atlas/ripe_atlas_repr/traceroute/Set2_traceroute_file_5.json\n"
     ]
    },
    {
     "name": "stderr",
     "output_type": "stream",
     "text": [
      "100%|█████████████████████████████████████████████████████████████████████████████████████████████████| 13582/13582 [00:00<00:00, 39080.73it/s]\n"
     ]
    },
    {
     "name": "stdout",
     "output_type": "stream",
     "text": [
      "91 out of 164 files\n",
      "./atlas/ripe_atlas_repr/traceroute/Set1_traceroute_file_38.json\n"
     ]
    },
    {
     "name": "stderr",
     "output_type": "stream",
     "text": [
      "100%|█████████████████████████████████████████████████████████████████████████████████████████████████| 35868/35868 [00:00<00:00, 43679.67it/s]\n"
     ]
    },
    {
     "name": "stdout",
     "output_type": "stream",
     "text": [
      "92 out of 164 files\n",
      "./atlas/ripe_atlas_repr/traceroute/Set1_traceroute_file_43.json\n"
     ]
    },
    {
     "name": "stderr",
     "output_type": "stream",
     "text": [
      "100%|█████████████████████████████████████████████████████████████████████████████████████████████████| 34711/34711 [00:00<00:00, 45318.82it/s]\n"
     ]
    },
    {
     "name": "stdout",
     "output_type": "stream",
     "text": [
      "93 out of 164 files\n",
      "./atlas/ripe_atlas_repr/traceroute/Set3_traceroute_file_16.json\n"
     ]
    },
    {
     "name": "stderr",
     "output_type": "stream",
     "text": [
      "100%|█████████████████████████████████████████████████████████████████████████████████████████████████| 14326/14326 [00:00<00:00, 34900.10it/s]\n"
     ]
    },
    {
     "name": "stdout",
     "output_type": "stream",
     "text": [
      "94 out of 164 files\n",
      "./atlas/ripe_atlas_repr/traceroute/Set1_traceroute_file_14.json\n"
     ]
    },
    {
     "name": "stderr",
     "output_type": "stream",
     "text": [
      "100%|█████████████████████████████████████████████████████████████████████████████████████████████████| 35541/35541 [00:00<00:00, 45672.90it/s]\n"
     ]
    },
    {
     "name": "stdout",
     "output_type": "stream",
     "text": [
      "95 out of 164 files\n",
      "./atlas/ripe_atlas_repr/traceroute/Set3_traceroute_file_41.json\n"
     ]
    },
    {
     "name": "stderr",
     "output_type": "stream",
     "text": [
      "100%|█████████████████████████████████████████████████████████████████████████████████████████████████| 14462/14462 [00:00<00:00, 42042.40it/s]\n"
     ]
    },
    {
     "name": "stdout",
     "output_type": "stream",
     "text": [
      "96 out of 164 files\n",
      "./atlas/ripe_atlas_repr/traceroute/Set2_traceroute_file_33.json\n"
     ]
    },
    {
     "name": "stderr",
     "output_type": "stream",
     "text": [
      "100%|█████████████████████████████████████████████████████████████████████████████████████████████████| 13339/13339 [00:00<00:00, 34995.80it/s]\n"
     ]
    },
    {
     "name": "stdout",
     "output_type": "stream",
     "text": [
      "97 out of 164 files\n",
      "./atlas/ripe_atlas_repr/traceroute/Set2_traceroute_file_25.json\n"
     ]
    },
    {
     "name": "stderr",
     "output_type": "stream",
     "text": [
      "100%|█████████████████████████████████████████████████████████████████████████████████████████████████| 13665/13665 [00:00<00:00, 42140.03it/s]\n"
     ]
    },
    {
     "name": "stdout",
     "output_type": "stream",
     "text": [
      "98 out of 164 files\n",
      "./atlas/ripe_atlas_repr/traceroute/Set1_traceroute_file_4.json\n"
     ]
    },
    {
     "name": "stderr",
     "output_type": "stream",
     "text": [
      "100%|█████████████████████████████████████████████████████████████████████████████████████████████████| 35246/35246 [00:00<00:00, 42697.73it/s]\n"
     ]
    },
    {
     "name": "stdout",
     "output_type": "stream",
     "text": [
      "99 out of 164 files\n",
      "./atlas/ripe_atlas_repr/traceroute/Set1_traceroute_file_5.json\n"
     ]
    },
    {
     "name": "stderr",
     "output_type": "stream",
     "text": [
      "100%|█████████████████████████████████████████████████████████████████████████████████████████████████| 35380/35380 [00:00<00:00, 44914.04it/s]\n"
     ]
    },
    {
     "name": "stdout",
     "output_type": "stream",
     "text": [
      "100 out of 164 files\n",
      "./atlas/ripe_atlas_repr/traceroute/AWS_ec2_traceroute_id_60491051.json\n"
     ]
    },
    {
     "name": "stderr",
     "output_type": "stream",
     "text": [
      "100%|███████████████████████████████████████████████████████████████████████████████████████████████████| 1977/1977 [00:00<00:00, 26367.69it/s]\n"
     ]
    },
    {
     "name": "stdout",
     "output_type": "stream",
     "text": [
      "101 out of 164 files\n",
      "./atlas/ripe_atlas_repr/traceroute/Set2_traceroute_file_24.json\n"
     ]
    },
    {
     "name": "stderr",
     "output_type": "stream",
     "text": [
      "100%|█████████████████████████████████████████████████████████████████████████████████████████████████| 13835/13835 [00:00<00:00, 35519.91it/s]\n"
     ]
    },
    {
     "name": "stdout",
     "output_type": "stream",
     "text": [
      "102 out of 164 files\n",
      "./atlas/ripe_atlas_repr/traceroute/Set2_traceroute_file_32.json\n"
     ]
    },
    {
     "name": "stderr",
     "output_type": "stream",
     "text": [
      "100%|█████████████████████████████████████████████████████████████████████████████████████████████████| 13738/13738 [00:00<00:00, 38254.53it/s]\n"
     ]
    },
    {
     "name": "stdout",
     "output_type": "stream",
     "text": [
      "103 out of 164 files\n",
      "./atlas/ripe_atlas_repr/traceroute/Set1_traceroute_file_15.json\n"
     ]
    },
    {
     "name": "stderr",
     "output_type": "stream",
     "text": [
      "100%|█████████████████████████████████████████████████████████████████████████████████████████████████| 35891/35891 [00:00<00:00, 43331.65it/s]\n"
     ]
    },
    {
     "name": "stdout",
     "output_type": "stream",
     "text": [
      "104 out of 164 files\n",
      "./atlas/ripe_atlas_repr/traceroute/Set3_traceroute_file_40.json\n"
     ]
    },
    {
     "name": "stderr",
     "output_type": "stream",
     "text": [
      "100%|█████████████████████████████████████████████████████████████████████████████████████████████████| 14350/14350 [00:00<00:00, 41147.53it/s]\n"
     ]
    },
    {
     "name": "stdout",
     "output_type": "stream",
     "text": [
      "105 out of 164 files\n",
      "./atlas/ripe_atlas_repr/traceroute/Set1_traceroute_file_42.json\n"
     ]
    },
    {
     "name": "stderr",
     "output_type": "stream",
     "text": [
      "100%|█████████████████████████████████████████████████████████████████████████████████████████████████| 35169/35169 [00:00<00:00, 45461.65it/s]\n"
     ]
    },
    {
     "name": "stdout",
     "output_type": "stream",
     "text": [
      "106 out of 164 files\n",
      "./atlas/ripe_atlas_repr/traceroute/Set3_traceroute_file_17.json\n"
     ]
    },
    {
     "name": "stderr",
     "output_type": "stream",
     "text": [
      "100%|█████████████████████████████████████████████████████████████████████████████████████████████████| 14456/14456 [00:00<00:00, 34282.15it/s]\n"
     ]
    },
    {
     "name": "stdout",
     "output_type": "stream",
     "text": [
      "107 out of 164 files\n",
      "./atlas/ripe_atlas_repr/traceroute/Set2_traceroute_file_4.json\n"
     ]
    },
    {
     "name": "stderr",
     "output_type": "stream",
     "text": [
      "100%|█████████████████████████████████████████████████████████████████████████████████████████████████| 14030/14030 [00:00<00:00, 41247.01it/s]\n"
     ]
    },
    {
     "name": "stdout",
     "output_type": "stream",
     "text": [
      "108 out of 164 files\n",
      "./atlas/ripe_atlas_repr/traceroute/Set1_traceroute_file_39.json\n"
     ]
    },
    {
     "name": "stderr",
     "output_type": "stream",
     "text": [
      "100%|█████████████████████████████████████████████████████████████████████████████████████████████████| 35749/35749 [00:00<00:00, 36993.76it/s]\n"
     ]
    },
    {
     "name": "stdout",
     "output_type": "stream",
     "text": [
      "109 out of 164 files\n",
      "./atlas/ripe_atlas_repr/traceroute/Set1_traceroute_file_9.json\n"
     ]
    },
    {
     "name": "stderr",
     "output_type": "stream",
     "text": [
      "100%|█████████████████████████████████████████████████████████████████████████████████████████████████| 35721/35721 [00:00<00:00, 47990.68it/s]\n"
     ]
    },
    {
     "name": "stdout",
     "output_type": "stream",
     "text": [
      "110 out of 164 files\n",
      "./atlas/ripe_atlas_repr/traceroute/Set2_traceroute_file_28.json\n"
     ]
    },
    {
     "name": "stderr",
     "output_type": "stream",
     "text": [
      "100%|█████████████████████████████████████████████████████████████████████████████████████████████████| 13536/13536 [00:00<00:00, 29804.08it/s]\n"
     ]
    },
    {
     "name": "stdout",
     "output_type": "stream",
     "text": [
      "111 out of 164 files\n",
      "./atlas/ripe_atlas_repr/traceroute/Set1_traceroute_file_19.json\n"
     ]
    },
    {
     "name": "stderr",
     "output_type": "stream",
     "text": [
      "100%|█████████████████████████████████████████████████████████████████████████████████████████████████| 35630/35630 [00:00<00:00, 44589.57it/s]\n"
     ]
    },
    {
     "name": "stdout",
     "output_type": "stream",
     "text": [
      "112 out of 164 files\n",
      "./atlas/ripe_atlas_repr/traceroute/Set2_traceroute_file_8.json\n"
     ]
    },
    {
     "name": "stderr",
     "output_type": "stream",
     "text": [
      "100%|█████████████████████████████████████████████████████████████████████████████████████████████████| 13618/13618 [00:00<00:00, 39166.61it/s]\n"
     ]
    },
    {
     "name": "stdout",
     "output_type": "stream",
     "text": [
      "113 out of 164 files\n",
      "./atlas/ripe_atlas_repr/traceroute/Set1_traceroute_file_35.json\n"
     ]
    },
    {
     "name": "stderr",
     "output_type": "stream",
     "text": [
      "100%|█████████████████████████████████████████████████████████████████████████████████████████████████| 35778/35778 [00:00<00:00, 40487.15it/s]\n"
     ]
    },
    {
     "name": "stdout",
     "output_type": "stream",
     "text": [
      "114 out of 164 files\n",
      "./atlas/ripe_atlas_repr/traceroute/Set2_traceroute_file_12.json\n"
     ]
    },
    {
     "name": "stderr",
     "output_type": "stream",
     "text": [
      "100%|█████████████████████████████████████████████████████████████████████████████████████████████████| 13718/13718 [00:00<00:00, 40039.21it/s]\n"
     ]
    },
    {
     "name": "stdout",
     "output_type": "stream",
     "text": [
      "115 out of 164 files\n",
      "./atlas/ripe_atlas_repr/traceroute/Set3_traceroute_file_37.json\n"
     ]
    },
    {
     "name": "stderr",
     "output_type": "stream",
     "text": [
      "100%|█████████████████████████████████████████████████████████████████████████████████████████████████| 14265/14265 [00:00<00:00, 33430.52it/s]\n"
     ]
    },
    {
     "name": "stdout",
     "output_type": "stream",
     "text": [
      "116 out of 164 files\n",
      "./atlas/ripe_atlas_repr/traceroute/Set2_traceroute_file_45.json\n"
     ]
    },
    {
     "name": "stderr",
     "output_type": "stream",
     "text": [
      "100%|██████████████████████████████████████████████████████████████████████████████████████████████████| 13737/13737 [00:03<00:00, 3949.97it/s]\n"
     ]
    },
    {
     "name": "stdout",
     "output_type": "stream",
     "text": [
      "117 out of 164 files\n",
      "./atlas/ripe_atlas_repr/traceroute/Set3_traceroute_file_3.json\n"
     ]
    },
    {
     "name": "stderr",
     "output_type": "stream",
     "text": [
      "100%|█████████████████████████████████████████████████████████████████████████████████████████████████| 14202/14202 [00:00<00:00, 33489.76it/s]\n"
     ]
    },
    {
     "name": "stdout",
     "output_type": "stream",
     "text": [
      "118 out of 164 files\n",
      "./atlas/ripe_atlas_repr/traceroute/Set3_traceroute_file_21.json\n"
     ]
    },
    {
     "name": "stderr",
     "output_type": "stream",
     "text": [
      "100%|█████████████████████████████████████████████████████████████████████████████████████████████████| 14276/14276 [00:00<00:00, 37119.37it/s]\n"
     ]
    },
    {
     "name": "stdout",
     "output_type": "stream",
     "text": [
      "119 out of 164 files\n",
      "./atlas/ripe_atlas_repr/traceroute/Set1_traceroute_file_23.json\n"
     ]
    },
    {
     "name": "stderr",
     "output_type": "stream",
     "text": [
      "100%|██████████████████████████████████████████████████████████████████████████████████████████████████| 35927/35927 [00:03<00:00, 9541.84it/s]\n"
     ]
    },
    {
     "name": "stdout",
     "output_type": "stream",
     "text": [
      "120 out of 164 files\n",
      "./atlas/ripe_atlas_repr/traceroute/Set1_traceroute_file_28.json\n"
     ]
    },
    {
     "name": "stderr",
     "output_type": "stream",
     "text": [
      "100%|█████████████████████████████████████████████████████████████████████████████████████████████████| 35945/35945 [00:00<00:00, 47157.69it/s]\n"
     ]
    },
    {
     "name": "stdout",
     "output_type": "stream",
     "text": [
      "121 out of 164 files\n",
      "./atlas/ripe_atlas_repr/traceroute/Set3_traceroute_file_8.json\n"
     ]
    },
    {
     "name": "stderr",
     "output_type": "stream",
     "text": [
      "100%|█████████████████████████████████████████████████████████████████████████████████████████████████| 14475/14475 [00:00<00:00, 34506.94it/s]\n"
     ]
    },
    {
     "name": "stdout",
     "output_type": "stream",
     "text": [
      "122 out of 164 files\n",
      "./atlas/ripe_atlas_repr/traceroute/Set2_traceroute_file_3.json\n"
     ]
    },
    {
     "name": "stderr",
     "output_type": "stream",
     "text": [
      "100%|█████████████████████████████████████████████████████████████████████████████████████████████████| 14104/14104 [00:00<00:00, 38017.71it/s]\n"
     ]
    },
    {
     "name": "stdout",
     "output_type": "stream",
     "text": [
      "123 out of 164 files\n",
      "./atlas/ripe_atlas_repr/traceroute/Set2_traceroute_file_19.json\n"
     ]
    },
    {
     "name": "stderr",
     "output_type": "stream",
     "text": [
      "100%|█████████████████████████████████████████████████████████████████████████████████████████████████| 13742/13742 [00:00<00:00, 41651.85it/s]\n"
     ]
    },
    {
     "name": "stdout",
     "output_type": "stream",
     "text": [
      "124 out of 164 files\n",
      "./atlas/ripe_atlas_repr/traceroute/Set1_traceroute_file_45.json\n"
     ]
    },
    {
     "name": "stderr",
     "output_type": "stream",
     "text": [
      "100%|█████████████████████████████████████████████████████████████████████████████████████████████████| 35888/35888 [00:00<00:00, 43281.33it/s]\n"
     ]
    },
    {
     "name": "stdout",
     "output_type": "stream",
     "text": [
      "125 out of 164 files\n",
      "./atlas/ripe_atlas_repr/traceroute/Set3_traceroute_file_10.json\n"
     ]
    },
    {
     "name": "stderr",
     "output_type": "stream",
     "text": [
      "100%|█████████████████████████████████████████████████████████████████████████████████████████████████| 14550/14550 [00:00<00:00, 39680.82it/s]\n"
     ]
    },
    {
     "name": "stdout",
     "output_type": "stream",
     "text": [
      "126 out of 164 files\n",
      "./atlas/ripe_atlas_repr/traceroute/AWS_ec2_traceroute_id_58912527.json\n"
     ]
    },
    {
     "name": "stderr",
     "output_type": "stream",
     "text": [
      "100%|███████████████████████████████████████████████████████████████████████████████████████████████████| 2230/2230 [00:00<00:00, 22537.74it/s]\n"
     ]
    },
    {
     "name": "stdout",
     "output_type": "stream",
     "text": [
      "127 out of 164 files\n",
      "./atlas/ripe_atlas_repr/traceroute/Set1_traceroute_file_12.json\n"
     ]
    },
    {
     "name": "stderr",
     "output_type": "stream",
     "text": [
      "100%|█████████████████████████████████████████████████████████████████████████████████████████████████| 35093/35093 [00:00<00:00, 43183.90it/s]\n"
     ]
    },
    {
     "name": "stdout",
     "output_type": "stream",
     "text": [
      "128 out of 164 files\n",
      "./atlas/ripe_atlas_repr/traceroute/Set2_traceroute_file_35.json\n"
     ]
    },
    {
     "name": "stderr",
     "output_type": "stream",
     "text": [
      "100%|██████████████████████████████████████████████████████████████████████████████████████████████████| 13715/13715 [00:03<00:00, 3832.01it/s]\n"
     ]
    },
    {
     "name": "stdout",
     "output_type": "stream",
     "text": [
      "129 out of 164 files\n",
      "./atlas/ripe_atlas_repr/traceroute/AWS_ec2_traceroute_id_59887282.json\n"
     ]
    },
    {
     "name": "stderr",
     "output_type": "stream",
     "text": [
      "100%|█████████████████████████████████████████████████████████████████████████████████████████████████| 91896/91896 [00:04<00:00, 20590.85it/s]\n"
     ]
    },
    {
     "name": "stdout",
     "output_type": "stream",
     "text": [
      "130 out of 164 files\n",
      "./atlas/ripe_atlas_repr/traceroute/Set2_traceroute_file_23.json\n"
     ]
    },
    {
     "name": "stderr",
     "output_type": "stream",
     "text": [
      "100%|█████████████████████████████████████████████████████████████████████████████████████████████████| 13755/13755 [00:00<00:00, 43017.04it/s]\n"
     ]
    },
    {
     "name": "stdout",
     "output_type": "stream",
     "text": [
      "131 out of 164 files\n",
      "./atlas/ripe_atlas_repr/traceroute/AWS_ec2_traceroute_id_58912531.json\n"
     ]
    },
    {
     "name": "stderr",
     "output_type": "stream",
     "text": [
      "100%|███████████████████████████████████████████████████████████████████████████████████████████████████| 2230/2230 [00:00<00:00, 21083.32it/s]\n"
     ]
    },
    {
     "name": "stdout",
     "output_type": "stream",
     "text": [
      "132 out of 164 files\n",
      "./atlas/ripe_atlas_repr/traceroute/Set1_traceroute_file_2.json\n"
     ]
    },
    {
     "name": "stderr",
     "output_type": "stream",
     "text": [
      "100%|█████████████████████████████████████████████████████████████████████████████████████████████████| 36328/36328 [00:00<00:00, 46212.18it/s]\n"
     ]
    },
    {
     "name": "stdout",
     "output_type": "stream",
     "text": [
      "133 out of 164 files\n",
      "./atlas/ripe_atlas_repr/traceroute/Set1_traceroute_file_24.json\n"
     ]
    },
    {
     "name": "stderr",
     "output_type": "stream",
     "text": [
      "100%|█████████████████████████████████████████████████████████████████████████████████████████████████| 34917/34917 [00:00<00:00, 42843.47it/s]\n"
     ]
    },
    {
     "name": "stdout",
     "output_type": "stream",
     "text": [
      "134 out of 164 files\n",
      "./atlas/ripe_atlas_repr/traceroute/Set3_traceroute_file_26.json\n"
     ]
    },
    {
     "name": "stderr",
     "output_type": "stream",
     "text": [
      "100%|█████████████████████████████████████████████████████████████████████████████████████████████████| 14503/14503 [00:00<00:00, 34854.62it/s]\n"
     ]
    },
    {
     "name": "stdout",
     "output_type": "stream",
     "text": [
      "135 out of 164 files\n",
      "./atlas/ripe_atlas_repr/traceroute/Set3_traceroute_file_4.json\n"
     ]
    },
    {
     "name": "stderr",
     "output_type": "stream",
     "text": [
      "100%|█████████████████████████████████████████████████████████████████████████████████████████████████| 14203/14203 [00:00<00:00, 33624.77it/s]\n"
     ]
    },
    {
     "name": "stdout",
     "output_type": "stream",
     "text": [
      "136 out of 164 files\n",
      "./atlas/ripe_atlas_repr/traceroute/Set2_traceroute_file_42.json\n"
     ]
    },
    {
     "name": "stderr",
     "output_type": "stream",
     "text": [
      "100%|█████████████████████████████████████████████████████████████████████████████████████████████████| 14104/14104 [00:00<00:00, 35754.02it/s]\n"
     ]
    },
    {
     "name": "stdout",
     "output_type": "stream",
     "text": [
      "137 out of 164 files\n",
      "./atlas/ripe_atlas_repr/traceroute/Set3_traceroute_file_30.json\n"
     ]
    },
    {
     "name": "stderr",
     "output_type": "stream",
     "text": [
      "100%|█████████████████████████████████████████████████████████████████████████████████████████████████| 14411/14411 [00:00<00:00, 41142.80it/s]\n"
     ]
    },
    {
     "name": "stdout",
     "output_type": "stream",
     "text": [
      "138 out of 164 files\n",
      "./atlas/ripe_atlas_repr/traceroute/Set2_traceroute_file_15.json\n"
     ]
    },
    {
     "name": "stderr",
     "output_type": "stream",
     "text": [
      "100%|█████████████████████████████████████████████████████████████████████████████████████████████████| 13863/13863 [00:00<00:00, 42021.31it/s]\n"
     ]
    },
    {
     "name": "stdout",
     "output_type": "stream",
     "text": [
      "139 out of 164 files\n",
      "./atlas/ripe_atlas_repr/traceroute/Set1_traceroute_file_32.json\n"
     ]
    },
    {
     "name": "stderr",
     "output_type": "stream",
     "text": [
      "100%|█████████████████████████████████████████████████████████████████████████████████████████████████| 35061/35061 [00:00<00:00, 37317.74it/s]\n"
     ]
    },
    {
     "name": "stdout",
     "output_type": "stream",
     "text": [
      "140 out of 164 files\n",
      "./atlas/ripe_atlas_repr/traceroute/Set1_traceroute_file_49.json\n"
     ]
    },
    {
     "name": "stderr",
     "output_type": "stream",
     "text": [
      "100%|█████████████████████████████████████████████████████████████████████████████████████████████████| 35919/35919 [00:00<00:00, 44892.85it/s]\n"
     ]
    },
    {
     "name": "stdout",
     "output_type": "stream",
     "text": [
      "141 out of 164 files\n",
      "./atlas/ripe_atlas_repr/traceroute/Set2_traceroute_file_39.json\n"
     ]
    },
    {
     "name": "stderr",
     "output_type": "stream",
     "text": [
      "100%|█████████████████████████████████████████████████████████████████████████████████████████████████| 13962/13962 [00:00<00:00, 41348.05it/s]\n"
     ]
    },
    {
     "name": "stdout",
     "output_type": "stream",
     "text": [
      "142 out of 164 files\n",
      "./atlas/ripe_atlas_repr/traceroute/AWS_ec2_traceroute_id_59616990.json\n"
     ]
    },
    {
     "name": "stderr",
     "output_type": "stream",
     "text": [
      "100%|█████████████████████████████████████████████████████████████████████████████████████████████████| 10337/10337 [00:00<00:00, 22352.20it/s]\n"
     ]
    },
    {
     "name": "stdout",
     "output_type": "stream",
     "text": [
      "143 out of 164 files\n",
      "./atlas/ripe_atlas_repr/traceroute/AWS_ec2_traceroute_id_59887277.json\n"
     ]
    },
    {
     "name": "stderr",
     "output_type": "stream",
     "text": [
      "100%|█████████████████████████████████████████████████████████████████████████████████████████████████| 91896/91896 [00:04<00:00, 20948.82it/s]\n"
     ]
    },
    {
     "name": "stdout",
     "output_type": "stream",
     "text": [
      "144 out of 164 files\n",
      "./atlas/ripe_atlas_repr/traceroute/AWS_ec2_traceroute_id_59616986.json\n"
     ]
    },
    {
     "name": "stderr",
     "output_type": "stream",
     "text": [
      "100%|█████████████████████████████████████████████████████████████████████████████████████████████████| 10337/10337 [00:00<00:00, 19921.52it/s]\n"
     ]
    },
    {
     "name": "stdout",
     "output_type": "stream",
     "text": [
      "145 out of 164 files\n",
      "./atlas/ripe_atlas_repr/traceroute/Set2_traceroute_file_38.json\n"
     ]
    },
    {
     "name": "stderr",
     "output_type": "stream",
     "text": [
      "100%|█████████████████████████████████████████████████████████████████████████████████████████████████| 13846/13846 [00:00<00:00, 40865.01it/s]\n"
     ]
    },
    {
     "name": "stdout",
     "output_type": "stream",
     "text": [
      "146 out of 164 files\n",
      "./atlas/ripe_atlas_repr/traceroute/Set1_traceroute_file_48.json\n"
     ]
    },
    {
     "name": "stderr",
     "output_type": "stream",
     "text": [
      "100%|█████████████████████████████████████████████████████████████████████████████████████████████████| 35830/35830 [00:00<00:00, 40277.11it/s]\n"
     ]
    },
    {
     "name": "stdout",
     "output_type": "stream",
     "text": [
      "147 out of 164 files\n",
      "./atlas/ripe_atlas_repr/traceroute/Set1_traceroute_file_33.json\n"
     ]
    },
    {
     "name": "stderr",
     "output_type": "stream",
     "text": [
      "100%|█████████████████████████████████████████████████████████████████████████████████████████████████| 35265/35265 [00:00<00:00, 43678.54it/s]\n"
     ]
    },
    {
     "name": "stdout",
     "output_type": "stream",
     "text": [
      "148 out of 164 files\n",
      "./atlas/ripe_atlas_repr/traceroute/Set2_traceroute_file_14.json\n"
     ]
    },
    {
     "name": "stderr",
     "output_type": "stream",
     "text": [
      "100%|█████████████████████████████████████████████████████████████████████████████████████████████████| 13774/13774 [00:00<00:00, 42393.04it/s]\n"
     ]
    },
    {
     "name": "stdout",
     "output_type": "stream",
     "text": [
      "149 out of 164 files\n",
      "./atlas/ripe_atlas_repr/traceroute/Set3_traceroute_file_31.json\n"
     ]
    },
    {
     "name": "stderr",
     "output_type": "stream",
     "text": [
      "100%|█████████████████████████████████████████████████████████████████████████████████████████████████| 14420/14420 [00:00<00:00, 35744.98it/s]\n"
     ]
    },
    {
     "name": "stdout",
     "output_type": "stream",
     "text": [
      "150 out of 164 files\n",
      "./atlas/ripe_atlas_repr/traceroute/Set3_traceroute_file_5.json\n"
     ]
    },
    {
     "name": "stderr",
     "output_type": "stream",
     "text": [
      "100%|█████████████████████████████████████████████████████████████████████████████████████████████████| 14009/14009 [00:00<00:00, 40582.04it/s]\n"
     ]
    },
    {
     "name": "stdout",
     "output_type": "stream",
     "text": [
      "151 out of 164 files\n",
      "./atlas/ripe_atlas_repr/traceroute/Set2_traceroute_file_43.json\n"
     ]
    },
    {
     "name": "stderr",
     "output_type": "stream",
     "text": [
      "100%|█████████████████████████████████████████████████████████████████████████████████████████████████| 13599/13599 [00:00<00:00, 35117.14it/s]\n"
     ]
    },
    {
     "name": "stdout",
     "output_type": "stream",
     "text": [
      "152 out of 164 files\n",
      "./atlas/ripe_atlas_repr/traceroute/Set3_traceroute_file_27.json\n"
     ]
    },
    {
     "name": "stderr",
     "output_type": "stream",
     "text": [
      "100%|█████████████████████████████████████████████████████████████████████████████████████████████████| 14536/14536 [00:00<00:00, 34390.07it/s]\n"
     ]
    },
    {
     "name": "stdout",
     "output_type": "stream",
     "text": [
      "153 out of 164 files\n",
      "./atlas/ripe_atlas_repr/traceroute/Set1_traceroute_file_25.json\n"
     ]
    },
    {
     "name": "stderr",
     "output_type": "stream",
     "text": [
      "100%|█████████████████████████████████████████████████████████████████████████████████████████████████| 36218/36218 [00:00<00:00, 39475.60it/s]\n"
     ]
    },
    {
     "name": "stdout",
     "output_type": "stream",
     "text": [
      "154 out of 164 files\n",
      "./atlas/ripe_atlas_repr/traceroute/Set1_traceroute_file_3.json\n"
     ]
    },
    {
     "name": "stderr",
     "output_type": "stream",
     "text": [
      "100%|█████████████████████████████████████████████████████████████████████████████████████████████████| 35798/35798 [00:00<00:00, 38374.50it/s]\n"
     ]
    },
    {
     "name": "stdout",
     "output_type": "stream",
     "text": [
      "155 out of 164 files\n",
      "./atlas/ripe_atlas_repr/traceroute/Set2_traceroute_file_22.json\n"
     ]
    },
    {
     "name": "stderr",
     "output_type": "stream",
     "text": [
      "100%|█████████████████████████████████████████████████████████████████████████████████████████████████| 13862/13862 [00:00<00:00, 33163.70it/s]\n"
     ]
    },
    {
     "name": "stdout",
     "output_type": "stream",
     "text": [
      "156 out of 164 files\n",
      "./atlas/ripe_atlas_repr/traceroute/Set2_traceroute_file_34.json\n"
     ]
    },
    {
     "name": "stderr",
     "output_type": "stream",
     "text": [
      "100%|█████████████████████████████████████████████████████████████████████████████████████████████████| 13663/13663 [00:00<00:00, 31490.41it/s]\n"
     ]
    },
    {
     "name": "stdout",
     "output_type": "stream",
     "text": [
      "157 out of 164 files\n",
      "./atlas/ripe_atlas_repr/traceroute/Set1_traceroute_file_13.json\n"
     ]
    },
    {
     "name": "stderr",
     "output_type": "stream",
     "text": [
      "100%|█████████████████████████████████████████████████████████████████████████████████████████████████| 34952/34952 [00:00<00:00, 36103.93it/s]\n"
     ]
    },
    {
     "name": "stdout",
     "output_type": "stream",
     "text": [
      "158 out of 164 files\n",
      "./atlas/ripe_atlas_repr/traceroute/Set1_traceroute_file_44.json\n"
     ]
    },
    {
     "name": "stderr",
     "output_type": "stream",
     "text": [
      "100%|█████████████████████████████████████████████████████████████████████████████████████████████████| 35491/35491 [00:00<00:00, 37736.02it/s]\n"
     ]
    },
    {
     "name": "stdout",
     "output_type": "stream",
     "text": [
      "159 out of 164 files\n",
      "./atlas/ripe_atlas_repr/traceroute/Set3_traceroute_file_11.json\n"
     ]
    },
    {
     "name": "stderr",
     "output_type": "stream",
     "text": [
      "100%|█████████████████████████████████████████████████████████████████████████████████████████████████| 14560/14560 [00:00<00:00, 37985.93it/s]\n"
     ]
    },
    {
     "name": "stdout",
     "output_type": "stream",
     "text": [
      "160 out of 164 files\n",
      "./atlas/ripe_atlas_repr/traceroute/Set2_traceroute_file_18.json\n"
     ]
    },
    {
     "name": "stderr",
     "output_type": "stream",
     "text": [
      "100%|█████████████████████████████████████████████████████████████████████████████████████████████████| 13874/13874 [00:00<00:00, 41250.40it/s]\n"
     ]
    },
    {
     "name": "stdout",
     "output_type": "stream",
     "text": [
      "161 out of 164 files\n",
      "./atlas/ripe_atlas_repr/traceroute/Set2_traceroute_file_2.json\n"
     ]
    },
    {
     "name": "stderr",
     "output_type": "stream",
     "text": [
      "100%|█████████████████████████████████████████████████████████████████████████████████████████████████| 13881/13881 [00:00<00:00, 36784.52it/s]\n"
     ]
    },
    {
     "name": "stdout",
     "output_type": "stream",
     "text": [
      "162 out of 164 files\n",
      "./atlas/ripe_atlas_repr/traceroute/Set3_traceroute_file_9.json\n"
     ]
    },
    {
     "name": "stderr",
     "output_type": "stream",
     "text": [
      "100%|█████████████████████████████████████████████████████████████████████████████████████████████████| 14121/14121 [00:00<00:00, 38110.87it/s]\n"
     ]
    },
    {
     "name": "stdout",
     "output_type": "stream",
     "text": [
      "163 out of 164 files\n",
      "./atlas/ripe_atlas_repr/traceroute/Set1_traceroute_file_29.json\n"
     ]
    },
    {
     "name": "stderr",
     "output_type": "stream",
     "text": [
      "100%|█████████████████████████████████████████████████████████████████████████████████████████████████| 35797/35797 [00:01<00:00, 34535.45it/s]"
     ]
    },
    {
     "name": "stdout",
     "output_type": "stream",
     "text": [
      "164 out of 164 files\n",
      "Traceroute filtering successfully completed\n"
     ]
    },
    {
     "name": "stderr",
     "output_type": "stream",
     "text": [
      "\n"
     ]
    }
   ],
   "source": [
    "set1_ripe_atlas_probe_dict = {}\n",
    "set1_ripe_atlas_probe_dict_not_starlink = {}\n",
    "starlink_prb = []\n",
    "ip_to_asn = {}\n",
    "pop_map = {}\n",
    "ixp_map = {}\n",
    "gs_map = {}\n",
    "# The newer + older measurements\n",
    "first_hop_filtered_json_list = []\n",
    "\n",
    "# Segregating the older and newer measurements as we could not pinpoint some POP locations in Australia and New Zealand for the newer measurements\n",
    "# This is used when we plot the correlation of the distance from Dishy to GS with observed median RTT to GS\n",
    "# The newer measurements list\n",
    "first_hop_filtered_json_list_new_msm = []\n",
    "# The older measurements list\n",
    "first_hop_filtered_json_list_old_msm = []\n",
    "\n",
    "timestamp_ids = set()\n",
    "new_probes = list()\n",
    "\n",
    "\n",
    "all_prb_details_file = open(f\"{base_folder}/ripe_prb_details/all_final_prb_details_ripe.json\", \"r\")\n",
    "all_prb_details_json = json.load(all_prb_details_file)\n",
    "    \n",
    "\n",
    "measurements_path = f'{base_folder}/traceroute/'\n",
    "\n",
    "\n",
    "first_hop_filtered_dict = {\n",
    "            'msm_name':\"\",\n",
    "            'prb_id' :\"\",\n",
    "            'starlink_net_hops' :[],\n",
    "            'src_addr': \"\",\n",
    "            'dst_addr':\"\",\n",
    "            'country_code':\"\",\n",
    "            'from_ip': \"\",\n",
    "            'gs_hop_ip': \"\",\n",
    "            'gs_hop': 0,\n",
    "            'gs_rtts': [],\n",
    "            'gw_hop_ip': [],\n",
    "            'gw_hop': 0,\n",
    "            'gw_rtts': [],\n",
    "            'pop_hop_ip': [],\n",
    "            'pop_hop': 0,\n",
    "            'pop_rtts': [],\n",
    "            'ixp_hop_ip': [],\n",
    "            'ixp_hop': 0,\n",
    "            'ixp_rtts': [],\n",
    "            'total_rtts': [],\n",
    "            'timestamp': \"\"\n",
    "            }\n",
    "\n",
    "\n",
    "file_index = 1\n",
    "num_files = len(glob.glob(os.path.join(measurements_path, '*.json')))\n",
    "\n",
    "for filename in glob.glob(os.path.join(measurements_path, '*.json')):\n",
    "\n",
    "    count_new_items = 0\n",
    "    f = open(filename)\n",
    "    print(filename)\n",
    "    data = json.load(f)\n",
    "    \n",
    "    i=0\n",
    "    rows=0\n",
    "    for idx in tqdm(range(0,len(data))):\n",
    "        test = data[idx]\n",
    "\n",
    "        if 'result' in test:\n",
    "            # check probe id and server address in same country\n",
    "            # by checking set1_ripe_atlas_probe_dict ,or\n",
    "            # by querying RIPE Atlas API\n",
    "            prb_id = test['prb_id']\n",
    "            country_code = None\n",
    "            in_net_hops = []\n",
    "            gs_rtts = []\n",
    "            gw_rtts = []\n",
    "            last_hop_rtts = []\n",
    "            pop_rtts = []\n",
    "            ixp_rtts = []\n",
    "            gs_hop_id = 0\n",
    "            gs_hop_ip = ''\n",
    "            gw_hop_id = 0\n",
    "            gw_hop_ips = []\n",
    "            pop_hop_id = 0\n",
    "            pop_hop_ips = []\n",
    "            ixp_hop_id = 0\n",
    "            ixp_hop_ips = []\n",
    "\n",
    "            for hop in test['result']:\n",
    "                if 'result' in hop:\n",
    "                    for each_result in hop['result']:\n",
    "                        if 'from' in each_result:\n",
    "                            if each_result['from'] == '100.64.0.1':\n",
    "                                gs_hop_ip = each_result['from']\n",
    "                                gs_hop_id = hop['hop']\n",
    "                                if 'dup' in each_result:\n",
    "                                        if each_result['dup'] == True:\n",
    "                                            continue\n",
    "                                if 'err' in each_result:\n",
    "                                    continue\n",
    "                                if 'rtt' in each_result:\n",
    "                                    gs_rtts.append(each_result['rtt'])\n",
    "                    if len(gs_rtts):\n",
    "                        in_net_hops.append(gs_hop_ip)\n",
    "                        break\n",
    "\n",
    "                    if len(gs_rtts) > 3:\n",
    "                        print(\"ERROR: Length of rtt value greater than 3 -- pls check\")\n",
    "                        print(test)\n",
    "                        gs_rtts.clear()\n",
    "                        break\n",
    "            if gs_hop_id == 0:\n",
    "                continue\n",
    "\n",
    "            for hop in test['result'][gs_hop_id:]:\n",
    "                asn = None\n",
    "                hop_ips = ()\n",
    "                if 'result' in hop:\n",
    "                    pop_reached = False\n",
    "                    for each_result in hop['result']:\n",
    "                        if 'from' in each_result:\n",
    "                            if len(each_result['from']):\n",
    "                                \n",
    "                                gw_hop_id = hop['hop']\n",
    "                                if 'dup' in each_result:\n",
    "                                        if each_result['dup'] == True:\n",
    "                                            continue\n",
    "                                if 'err' in each_result:\n",
    "                                    continue\n",
    "                                if 'rtt' in each_result:\n",
    "                                    gw_rtts.append(each_result['rtt'])\n",
    "                                    gw_hop_ips.append(each_result['from'])\n",
    "                                    if each_result['from'] not in hop_ips:\n",
    "                                        hop_ips += (each_result['from'],)\n",
    "                    if len(hop_ips) and hop_ips not in in_net_hops:\n",
    "                        in_net_hops.append(hop_ips)\n",
    "                        \n",
    "                break\n",
    "\n",
    "\n",
    "            for hop in test['result'][gw_hop_id:]:\n",
    "                asn = None\n",
    "                hop_ips = ()\n",
    "                if 'result' in hop:\n",
    "                    pop_reached = False\n",
    "                    for each_result in hop['result']:\n",
    "                        if 'from' in each_result:\n",
    "                            if len(each_result['from']) and each_result['from'] not in hop_ips:\n",
    "                                hop_ips += (each_result['from'],)\n",
    "                            if len(each_result['from']) and not ipaddress.ip_address(each_result['from']).is_private and each_result['from'] != '100.64.0.1':\n",
    "                                if each_result['from'] in ip_to_asn:\n",
    "                                    asn = ip_to_asn[each_result['from']]\n",
    "                                else:\n",
    "                                    try:\n",
    "                                        asn = asndb.lookup(each_result['from'])[0]\n",
    "                                        ip_to_asn[each_result['from']] = asn\n",
    "                                    except Exception as e:\n",
    "                                        print(str(e))\n",
    "                                        sys.exit()\n",
    "                                if asn == 14593:\n",
    "                                    pop_reached = True\n",
    "                                    pop_hop_id = hop['hop']\n",
    "                                    if 'dup' in each_result:\n",
    "                                        if each_result['dup'] == True:\n",
    "                                            continue\n",
    "                                    if 'err' in each_result:\n",
    "                                        continue\n",
    "                                    if 'rtt' in each_result:\n",
    "                                        pop_rtts.append(each_result['rtt'])\n",
    "                                        pop_hop_ips.append(each_result['from'])\n",
    "                    if hop_ips not in in_net_hops:\n",
    "                        in_net_hops.append(hop_ips)\n",
    "                        hop_ips = ()\n",
    "                    if pop_reached:\n",
    "                        break\n",
    "\n",
    "            for hop in test['result'][pop_hop_id:]:\n",
    "                asn = None\n",
    "                hop_ips = ()\n",
    "                if 'result' in hop:\n",
    "                    ixp_reached = False\n",
    "                    for each_result in hop['result']:\n",
    "                        if 'from' in each_result:\n",
    "                            if len(each_result['from']) and each_result['from'] not in hop_ips:\n",
    "                                hop_ips += (each_result['from'],)\n",
    "                            if len(each_result['from']) and not ipaddress.ip_address(each_result['from']).is_private:\n",
    "                                if each_result['from'] in ip_to_asn:\n",
    "                                    asn = ip_to_asn[each_result['from']]\n",
    "                                else:\n",
    "                                    try:\n",
    "                                        asn = asndb.lookup(each_result['from'])[0]\n",
    "                                        ip_to_asn[each_result['from']] = asn\n",
    "                                    except Exception as e:\n",
    "                                        print(str(e))\n",
    "                                        sys.exit()\n",
    "                                if asn is not None and asn != 14593 and each_result['from'] != test['dst_addr']:\n",
    "                                    ixp_reached = True\n",
    "                                    ixp_hop_id = hop['hop']\n",
    "                                    if 'dup' in each_result:\n",
    "                                        if each_result['dup'] == True:\n",
    "                                            continue\n",
    "                                    if 'err' in each_result:\n",
    "                                        continue\n",
    "                                    if 'rtt' in each_result:\n",
    "                                        ixp_rtts.append(each_result['rtt'])\n",
    "                                        ixp_hop_ips.append(each_result['from'])\n",
    "                    if hop_ips not in in_net_hops:\n",
    "                        in_net_hops.append(hop_ips)\n",
    "                        hop_ips = ()\n",
    "                    if ixp_reached:\n",
    "                        break\n",
    "            last_hop = test['result'][-1]\n",
    "                        \n",
    "            for each_res in last_hop['result']:\n",
    "                if 'dup' in each_res:\n",
    "                    if each_res['dup'] == True:\n",
    "                        continue\n",
    "                if 'err' in each_res:\n",
    "                    continue\n",
    "                if 'from' in each_res:\n",
    "                    if each_res['from'] == test['dst_addr']:\n",
    "                        if 'rtt' in each_res:\n",
    "                            last_hop_rtts.append(each_res['rtt'])    \n",
    "\n",
    "            if len(gs_rtts) > 3:\n",
    "                print(\"ERROR: Length of gs rtt values greater than 3 -- pls check\")\n",
    "                print(test)\n",
    "                sys.exit() \n",
    "            if len(pop_rtts) > 3:\n",
    "                print(\"ERROR: Length of pop hop rtt values greater than 3 -- pls check\")\n",
    "                print(test)\n",
    "                sys.exit()\n",
    "            if len(ixp_rtts) > 3:\n",
    "                print(\"ERROR: Length of ixp hop rtt values greater than 3 -- pls check\")\n",
    "                print(test)\n",
    "                sys.exit()  \n",
    "            if len(last_hop_rtts) > 3:\n",
    "                print(\"ERROR: Length of last hop rtt values greater than 3 -- pls check\")\n",
    "                print(test)\n",
    "                sys.exit()                \n",
    "\n",
    "\n",
    "            if prb_id in set1_ripe_atlas_probe_dict:\n",
    "                country_code = set1_ripe_atlas_probe_dict[prb_id]\n",
    "            else:\n",
    "                prb_details = all_prb_details_json[str(prb_id)]\n",
    "                country_code = prb_details['country_code']\n",
    "                set1_ripe_atlas_probe_dict[prb_id] = country_code\n",
    "\n",
    "            if gs_hop_id:\n",
    "                if test['msm_id'] in timestamp_ids:\n",
    "                    print(\"ERROR: Same timestamp being added -- pls check\")\n",
    "                    sys.exit()\n",
    "                else:\n",
    "                    timestamp_ids.add(test['timestamp'])\n",
    "                first_hop_filtered_dict_clone = copy.deepcopy(first_hop_filtered_dict)\n",
    "                first_hop_filtered_dict_clone['msm_name'] = test['msm_name']\n",
    "                first_hop_filtered_dict_clone['prb_id']= test['prb_id']\n",
    "                first_hop_filtered_dict_clone['starlink_net_hops'] = in_net_hops\n",
    "                first_hop_filtered_dict_clone['src_addr'] = test['src_addr']\n",
    "                first_hop_filtered_dict_clone['dst_addr'] = test['dst_addr']\n",
    "                first_hop_filtered_dict_clone['country_code'] = country_code\n",
    "                first_hop_filtered_dict_clone['gs_hop_ip'] = gs_hop_ip\n",
    "                first_hop_filtered_dict_clone['gs_hop'] = gs_hop_id\n",
    "                first_hop_filtered_dict_clone['gw_hop_ip'] = gw_hop_ips\n",
    "                first_hop_filtered_dict_clone['gw_hop'] = gw_hop_id\n",
    "                first_hop_filtered_dict_clone['pop_hop_ip'] = pop_hop_ips\n",
    "                first_hop_filtered_dict_clone['pop_hop'] = pop_hop_id\n",
    "                first_hop_filtered_dict_clone['ixp_hop_ip'] = ixp_hop_ips\n",
    "                first_hop_filtered_dict_clone['ixp_hop'] = ixp_hop_id\n",
    "\n",
    "                first_hop_filtered_dict_clone['timestamp'] = test['timestamp']\n",
    "                first_hop_filtered_dict_clone['from_ip'] = test['from']\n",
    "\n",
    "                first_hop_filtered_dict_clone['gs_rtts'] = gs_rtts\n",
    "\n",
    "                first_hop_filtered_dict_clone['gw_rtts'] = gw_rtts\n",
    "                first_hop_filtered_dict_clone['pop_rtts'] = pop_rtts\n",
    "                first_hop_filtered_dict_clone['ixp_rtts'] = ixp_rtts\n",
    "                first_hop_filtered_dict_clone['total_rtts'] = last_hop_rtts\n",
    "\n",
    "                first_hop_filtered_json_list.append(first_hop_filtered_dict_clone)\n",
    "\n",
    "                if os.path.basename(filename).startswith('AWS_ec2'):\n",
    "                    first_hop_filtered_json_list_new_msm.append(first_hop_filtered_dict_clone)\n",
    "                elif os.path.basename(filename).startswith('Set'):\n",
    "                    first_hop_filtered_json_list_old_msm.append(first_hop_filtered_dict_clone)\n",
    "                \n",
    "                count_new_items = count_new_items + 1\n",
    "\n",
    "                \n",
    "    print(f'{file_index} out of {num_files} files')\n",
    "    file_index = file_index + 1\n",
    "\n",
    "\n",
    "count_new_items = 0\n",
    "print(f\"Traceroute filtering successfully completed\")   "
   ]
  },
  {
   "cell_type": "markdown",
   "metadata": {},
   "source": [
    "## Prepare country-wise Speedchecker Celullar last-mile RTT"
   ]
  },
  {
   "cell_type": "code",
   "execution_count": null,
   "metadata": {},
   "outputs": [],
   "source": [
    "def is_private_ip(ip):\n",
    "    ip_obj = ipaddress.ip_address(ip)\n",
    "    return (ip_obj in ipaddress.ip_network(\"10.0.0.0/8\") or ip_obj in ipaddress.ip_network(\"172.16.0.0/12\")\n",
    "            or ip_obj in ipaddress.ip_network(\"192.168.0.0/16\"))\n",
    "\n",
    "# Speedchecker\n",
    "\n",
    "def create_connection(db):\n",
    "    try:\n",
    "        con = sqlite3.connect(db)\n",
    "        return con\n",
    "    except sqlite3.Error as e:\n",
    "        print(e)\n",
    "# cloudy_db_path = r\"./measurements/ripe_atlas_repr/sc_cellular/speedchecker_db.db\"\n",
    "cloudy_db_path = f\"{base_folder}/sc_cellular/speedchecker_db.db\"\n",
    "conn = create_connection(cloudy_db_path)\n",
    "cursor = conn.cursor()\n",
    "\n",
    "first_hop_latency = {}\n",
    "home_ids = []\n",
    "other_ids = []\n",
    "\n",
    "\n",
    "tracert_ids_sql = \"\"\"select TracerouteID from Hops where TracerouteID in (select TracerouteID from Traceroute T \n",
    "                  join Probes P on T.ProbeID = P.ProbeID join Datacenters D on T.DestinationURL = D.URL \n",
    "                  where P.Country = D.Country) group by TracerouteID having count(*) > 2\"\"\"\n",
    "\n",
    "tracert_latency_sql = \"\"\"with ranked_hops as (\n",
    "                      select HopNumber, TracerouteID, RTT1, RTT2, RTT3, row_number() over \n",
    "                      (partition by TracerouteID order by HopNumber desc) as rn from Hops where TracerouteID in {})\n",
    "                      select TracerouteID, RTT1, RTT2, RTT3 from ranked_hops where rn = 1\"\"\"\n",
    "\n",
    "hops_sql = \"\"\"with ranked_hops as (\n",
    "           select HopIP, HopNumber, TracerouteID, RTT1, RTT2, RTT3, row_number() over \n",
    "           (partition by TracerouteID order by HopNumber asc) as rn, ASN\n",
    "           from Hops H join NodeInfo N on H.HopIP = N.IP where TracerouteID in {})\n",
    "           select HopIP, TracerouteID, HopNumber, RTT1, RTT2, RTT3, rn, ASN from ranked_hops where rn in (1, 2)\"\"\"\n",
    "\n",
    "cursor.execute(tracert_ids_sql) # get traceroute ids of paths with more than 2 identified hops\n",
    "filtered_ids = tuple([r[0] for r in cursor])\n",
    "\n",
    "cursor.execute(tracert_latency_sql.format(filtered_ids))\n",
    "tracert_latencies = {}\n",
    "for row in cursor:\n",
    "    tracert_latencies[row[0]] = [x for x in row[1:] if x is not None and 0 < x < 1000]\n",
    "\n",
    "cursor.execute(hops_sql.format(filtered_ids))\n",
    "current_id = 0\n",
    "skip = False\n",
    "lat = ()\n",
    "home_asns = []\n",
    "other_asns = []\n",
    "for row in cursor:\n",
    "    h_ip = row[0]\n",
    "    t_id = row[1]\n",
    "    hn = row[2]\n",
    "    rtts = [x for x in row[3:6] if x is not None and 0 < x < 1000]\n",
    "    rn = row[6]  \n",
    "    asn = row[7]\n",
    "    if current_id != t_id:\n",
    "        current_id = t_id\n",
    "        skip = False\n",
    "    if rn == 1:\n",
    "        if is_private_ip(h_ip):\n",
    "            lat = (rtts, )\n",
    "        else:\n",
    "            skip = True\n",
    "            if len(rtts) > 0 and hn == 1:\n",
    "                other_ids.append(t_id)\n",
    "                other_asns.append(asn)\n",
    "                first_hop_latency[t_id] = rtts\n",
    "    elif not is_private_ip(h_ip) and not skip:\n",
    "            lat += (rtts, )\n",
    "            first_hop_latency[t_id] = lat\n",
    "            home_ids.append(t_id)\n",
    "            home_asns.append(asn)\n",
    "                \n",
    "\n",
    "sc_tracert_loc_sql = \"\"\"select TracerouteID, P.Country from Traceroute T join Probes P on \n",
    "                     T.ProbeID = P.ProbeID join Datacenters D on T.DestinationURL = D.URL\n",
    "                     where D.Country = P.Country\"\"\"\n",
    "\n",
    "cursor.execute(sc_tracert_loc_sql)\n",
    "relevant_ids_sc = {}\n",
    "for t_id, co in cursor:\n",
    "    if co not in relevant_ids_sc:\n",
    "        relevant_ids_sc[co] = []\n",
    "    relevant_ids_sc[co].append(t_id)\n",
    "    \n",
    "r_ids = tuple(home_ids + other_ids)\n",
    "probe_tracert_sql = \"select ProbeID, TracerouteID, DestinationURL from Traceroute where TracerouteID in {}\"\n",
    "cursor.execute(probe_tracert_sql.format(r_ids))\n",
    "\n",
    "probe_lat_home = collections.defaultdict(lambda: collections.defaultdict(list))\n",
    "tracert_id_home = collections.defaultdict(lambda: collections.defaultdict(list))\n",
    "probe_lat_other = collections.defaultdict(lambda: collections.defaultdict(list))\n",
    "tracert_id_other = collections.defaultdict(lambda: collections.defaultdict(list))\n",
    "for p_id, t_id, url in cursor:\n",
    "    if t_id in home_ids:\n",
    "        probe_lat_home[p_id][url] += tracert_latencies[t_id]\n",
    "        tracert_id_home[p_id][url].append(t_id)\n",
    "    else:\n",
    "        probe_lat_other[p_id][url] += tracert_latencies[t_id]\n",
    "        tracert_id_other[p_id][url].append(t_id)\n",
    "    \n",
    "closest_ids_home = []\n",
    "for probe_id in tracert_id_home:\n",
    "    lowest = ()\n",
    "    for dc in probe_lat_home[probe_id]:\n",
    "        pings = probe_lat_home[probe_id][dc]\n",
    "        if len(pings) > 0:\n",
    "            avg = sum(pings)/len(pings)\n",
    "            if lowest == ():\n",
    "                lowest = (dc, avg)\n",
    "            elif avg < lowest[1]:\n",
    "                lowest = (dc, avg)\n",
    "    if lowest != ():            \n",
    "        closest_ids_home += tracert_id_home[probe_id][lowest[0]]\n",
    "        \n",
    "closest_ids_other = []\n",
    "for probe_id in tracert_id_other:\n",
    "    lowest = ()\n",
    "    for dc in probe_lat_other[probe_id]:\n",
    "        pings = probe_lat_other[probe_id][dc]\n",
    "        if len(pings) > 0:\n",
    "            avg = sum(pings)/len(pings)\n",
    "            if lowest == ():\n",
    "                lowest = (dc, avg)\n",
    "            elif avg < lowest[1]:\n",
    "                lowest = (dc, avg)\n",
    "    if lowest != ():            \n",
    "        closest_ids_other += tracert_id_other[probe_id][lowest[0]]\n",
    "\n",
    "\n",
    "sc_tracert_loc_sql = \"\"\"select TracerouteID, P.Country from Traceroute T join Probes P on \n",
    "                     T.ProbeID = P.ProbeID join Datacenters D on T.DestinationURL = D.URL\n",
    "                     where D.Country = P.Country and TracerouteID in {}\"\"\"\n",
    "\n",
    "cursor.execute(sc_tracert_loc_sql.format(tuple(closest_ids_home + closest_ids_other)))\n",
    "relevant_ids_home = collections.defaultdict(list)\n",
    "relevant_ids_other = collections.defaultdict(list)\n",
    "for t_id, co in cursor:\n",
    "    if t_id in closest_ids_home:\n",
    "        relevant_ids_home[co].append(t_id)\n",
    "    else:\n",
    "        relevant_ids_other[co].append(t_id)\n",
    "        \n",
    "sc_per_home = collections.defaultdict(list)\n",
    "sc_per_other = collections.defaultdict(list)\n",
    "\n",
    "for co in relevant_ids_home:\n",
    "    for t_id in relevant_ids_home[co]:\n",
    "        home = first_hop_latency[t_id][0]\n",
    "        isp = first_hop_latency[t_id][1]\n",
    "        dst = tracert_latencies[t_id]\n",
    "        if home and isp and dst:\n",
    "            home = np.mean(home)\n",
    "            isp = np.mean(isp)\n",
    "            dst = np.mean(dst)\n",
    "            sc_per_home[co].append(100*isp / dst)\n",
    "\n",
    "for co in relevant_ids_other:\n",
    "    for t_id in relevant_ids_other[co]:\n",
    "        isp = first_hop_latency[t_id]\n",
    "        dst = tracert_latencies[t_id]\n",
    "        if isp and dst:\n",
    "            isp = np.mean(isp)\n",
    "            dst = np.mean(dst)\n",
    "            sc_per_other[co].append(100*isp / dst)\n",
    "\n",
    "\n",
    "# Calculations\n",
    "\n",
    "sc_per = {}\n",
    "sc_abs = {}\n",
    "sc_other_per = {}\n",
    "sc_other_abs = {}\n",
    "sc_isp_per = {}\n",
    "sc_isp_abs = {}\n",
    "\n",
    "for co in relevant_ids_sc:\n",
    "    for t_id in relevant_ids_sc[co]:\n",
    "        if t_id in home_ids:\n",
    "            if co not in sc_abs:\n",
    "                sc_per[co] = []\n",
    "                sc_isp_per[co] = []\n",
    "                sc_abs[co] = []\n",
    "                sc_isp_abs[co] = []\n",
    "            home = first_hop_latency[t_id][0]\n",
    "            isp = first_hop_latency[t_id][1]\n",
    "            dst = tracert_latencies[t_id]\n",
    "            if home and isp and dst:\n",
    "                home = np.mean(home)\n",
    "                isp = np.mean(isp)\n",
    "                dst = np.mean(dst)\n",
    "                sc_per[co].append(100*isp / dst)\n",
    "                sc_abs[co].append(isp)\n",
    "                sc_isp_per[co].append(100*(isp - home) / dst)\n",
    "                sc_isp_abs[co].append(isp - home)\n",
    "        elif t_id in other_ids:\n",
    "            if co not in sc_other_abs:\n",
    "                # print(co)\n",
    "                sc_other_per[co] = []\n",
    "                sc_other_abs[co] = []\n",
    "            isp = first_hop_latency[t_id]\n",
    "            dst = tracert_latencies[t_id]\n",
    "            if isp and dst:\n",
    "                isp = np.mean(isp)\n",
    "                dst = np.mean(dst)\n",
    "                sc_other_per[co].append(100*isp / dst)\n",
    "                sc_other_abs[co].append(isp)"
   ]
  },
  {
   "cell_type": "markdown",
   "metadata": {},
   "source": [
    "## Prepare country wise last-mile RTT"
   ]
  },
  {
   "cell_type": "code",
   "execution_count": null,
   "metadata": {},
   "outputs": [],
   "source": [
    "last_mile_ripe_abs = []\n",
    "last_mile_ripe_var = []\n",
    "last_mile_ripe_per = []\n",
    "\n",
    "ripe_abs = {}\n",
    "ripe_var = {}\n",
    "\n",
    "for tracert in first_hop_filtered_json_list:\n",
    "    # Probe 26696 has unusually high RTTs (50-60ms) to local user router\n",
    "    if tracert['prb_id'] == 26696 or tracert['prb_id'] == 28:\n",
    "        continue\n",
    "    country = tracert['country_code']\n",
    "    if country not in ripe_abs:\n",
    "        ripe_abs[country] = []\n",
    "        ripe_var[country] = []\n",
    "    if len(tracert['gs_rtts']):\n",
    "        ripe_abs[country] += tracert['gs_rtts']\n",
    "        ripe_var[country].append(stats.variation(tracert['gs_rtts']))\n",
    "   \n",
    "\n",
    "\n",
    "for country in ripe_abs:\n",
    "    ripe_abs[country] = [x for x in ripe_abs[country] if x < 400]\n",
    "    last_mile_ripe_abs += ripe_abs[country]\n",
    "\n",
    "for country in ripe_var:\n",
    "    ripe_var[country] = [x for x in ripe_var[country] if x < 400]\n",
    "    last_mile_ripe_var += ripe_var[country]"
   ]
  },
  {
   "cell_type": "markdown",
   "metadata": {},
   "source": [
    "## Plotting Starlink vs Cellular last-mile RTT"
   ]
  },
  {
   "cell_type": "code",
   "execution_count": 11,
   "metadata": {},
   "outputs": [
    {
     "data": {
      "image/png": "[encoded data removed]",
      "text/plain": [
       "<Figure size 466x200 with 1 Axes>"
      ]
     },
     "metadata": {},
     "output_type": "display_data"
    }
   ],
   "source": [
    "\n",
    "rcParams[\"font.size\"] = 11\n",
    "def adjust_box(plot):\n",
    "    for i in range(2):\n",
    "        plt.setp(plot['boxes'][i], facecolor=cols[i], linewidth=1)\n",
    "        plt.setp(plot['medians'][i], color='yellow')\n",
    "\n",
    "countries = ['GB', 'IT', 'NL', 'AU', 'US', 'DE', 'CA', 'FR', 'BE']\n",
    "\n",
    "for country in countries:\n",
    "    sc_other_abs[country] =[x for x in sc_other_abs[country] if x < 100]\n",
    "fig, ax = plt.subplots(figsize=(4.66, 2))\n",
    "\n",
    "pos1 = np.arange(0, 3 * len(countries), 3)\n",
    "pos2 = np.arange(1, 3 * len(countries) + 1, 3)\n",
    "ax.boxplot([sc_other_abs[country] for country in countries], positions=pos1, patch_artist=True,\n",
    "           showfliers=False, boxprops=dict(facecolor=cols[0], lw=1), medianprops=dict(color=\"yellow\"))\n",
    "ax.boxplot([ripe_abs[country] for country in countries], positions=pos2, patch_artist=True,\n",
    "           showfliers=False, boxprops=dict(facecolor=cols[1], lw=1), medianprops=dict(color=\"yellow\"))\n",
    "xspan = 3\n",
    "[ax.axvspan(i * xspan - 1, i * xspan - 1 + xspan, facecolor=\"k\", alpha=0.2)\n",
    "    for i in range(len(countries))\n",
    "    if i % 2 == 1]\n",
    "\n",
    "ax.set_xticks(np.arange(0.5, 3 * len(countries), 3))\n",
    "ax.set_xticklabels(countries)\n",
    "ax.set_ylabel(\"Last-mile latency [ms]\")\n",
    "ax.set_yticks(np.arange(0, 90, 20))\n",
    "ax.set_ylim(-5,90)\n",
    "ax.xaxis.get_major_formatter()._usetex = False\n",
    "ax.yaxis.get_major_formatter()._usetex = False\n",
    "\n",
    "handles = [Patch(facecolor=col) for col in cols[:4]]\n",
    "labels = [\"Cellular\", \"Starlink\"]\n",
    "\n",
    "ax.legend(handles, labels, loc=\"upper left\", fontsize=\"small\", edgecolor=\"k\", handlelength=1, \n",
    "          labelspacing=0.06, columnspacing=0.5, handletextpad=0.3, fancybox=False, ncol=4)\n",
    "plt.grid(True, axis=\"y\", linestyle=\"--\")\n",
    "plt.ylim(0,100)\n",
    "fig.tight_layout()\n",
    "\n",
    "plt.savefig(\"Figs/Last-mile_abs_SCcell_vs_Atlas_new.pdf\", bbox_inches = \"tight\", pad_inches = 0)\n",
    "plt.savefig(\"Figs/Last-mile_abs_SCcell_vs_Atlas_new.svg\", bbox_inches = \"tight\", pad_inches = 0)\n",
    "plt.show()"
   ]
  },
  {
   "cell_type": "markdown",
   "metadata": {},
   "source": [
    "## Prepare Starlink Dishy to GS RTT vs Distance data"
   ]
  },
  {
   "cell_type": "code",
   "execution_count": 12,
   "metadata": {},
   "outputs": [],
   "source": [
    "outlier_map = {}\n",
    "\n",
    "\n",
    "all_prb_details_file = open(f\"{base_folder}/ripe_prb_details/all_final_prb_details_ripe.json\", \"r\")\n",
    "all_prb_details_json = json.load(all_prb_details_file)\n",
    "\n",
    "\n",
    "dist_to_rtt = {}\n",
    "\n",
    "\n",
    "pop_details_file_old = open(f\"{base_folder}/starlink_pop_details/pop_coordinates_old.json\", \"r\")\n",
    "pop_details_file_new = open(f\"{base_folder}/starlink_pop_details/pop_coordinates_new.json\", \"r\")\n",
    "pop_details_json_old = json.load(pop_details_file_old)\n",
    "pop_details_json_new = json.load(pop_details_file_new)\n",
    "\n",
    "for tracert in first_hop_filtered_json_list_old_msm:\n",
    "    prb_id = str(tracert['prb_id'])\n",
    "    # 61113 prb - Filtering it out as it is serviced by probes above the 53° inclination angle or using ISLs, and outlier probe\n",
    "    # 28 prb is faulty - RTT to local user router/network is often between 40-50ms\n",
    "    if prb_id in [\"28\", \"61113\",]:\n",
    "        continue\n",
    "    prb_coords = (all_prb_details_json[prb_id]['latitude'], all_prb_details_json[prb_id]['longitude'])\n",
    "    pop_ip_set = set()\n",
    "    pop_coords = None\n",
    "    for idx in range(3):\n",
    "        try:\n",
    "            pop_ip = tracert['pop_hop_ip'][idx]\n",
    "            pop_ip_set.add(pop_ip)\n",
    "            pop_coords = (pop_details_json_old[pop_ip]['Latitude'],pop_details_json_old[pop_ip]['Longitude'])\n",
    "        except:\n",
    "            pop_ip_set.clear()\n",
    "            continue\n",
    "    if len(pop_ip_set) == 1 and len(tracert['pop_rtts']) and len(tracert['gs_rtts']):\n",
    "        pop_median_rtt = statistics.median(tracert['pop_rtts'])\n",
    "        gs_median_rtt = statistics.median(tracert['gs_rtts'])\n",
    "        if round(pop_median_rtt - gs_median_rtt) >=0  and round(pop_median_rtt - gs_median_rtt) <=1 :\n",
    "\n",
    "            dist = hs.haversine(prb_coords, pop_coords)\n",
    "            rounded_dist = round(dist)\n",
    "            if rounded_dist not in dist_to_rtt:\n",
    "                dist_to_rtt[rounded_dist] = []\n",
    "            dist_to_rtt[rounded_dist] += tracert['gs_rtts']          \n",
    "        \n",
    "\n",
    "for tracert in first_hop_filtered_json_list_new_msm:\n",
    "    prb_id = str(tracert['prb_id'])\n",
    "    # 61113 prb - Filtering it out as it is serviced by probes above the 53° inclination angle or using ISLs, and outlier probe\n",
    "    # 26696 prb is faulty - RTT to local user router is often between 40-50ms\n",
    "    # 28 prb is faulty - RTT to local user router/network is often between 40-50ms\n",
    "    # 60797 prb is in RU - uses ISL\n",
    "    if prb_id in [\"28\", \"61113\", \"60797\", \"26696\"]:\n",
    "        continue\n",
    "    prb_coords = (all_prb_details_json[prb_id]['latitude'], all_prb_details_json[prb_id]['longitude'])\n",
    "    pop_ip_set = set()\n",
    "    pop_coords = None\n",
    "    for idx in range(3):\n",
    "        try:\n",
    "            pop_ip = tracert['pop_hop_ip'][idx]\n",
    "            pop_ip_set.add(pop_ip)\n",
    "            pop_coords = (pop_details_json_new[pop_ip]['Latitude'],pop_details_json_new[pop_ip]['Longitude'])\n",
    "            if pop_details_json_new[pop_ip]['City'] in [\"Australia\", \"New Zealand\"]:\n",
    "                pop_ip_set.clear()\n",
    "                continue\n",
    "        except:\n",
    "            pop_ip_set.clear()\n",
    "            continue\n",
    "\n",
    "    if len(pop_ip_set) == 1 and len(tracert['pop_rtts']) and len(tracert['gs_rtts']):\n",
    "        pop_median_rtt = statistics.median(tracert['pop_rtts'])\n",
    "        gs_median_rtt = statistics.median(tracert['gs_rtts'])\n",
    "        if round(pop_median_rtt - gs_median_rtt) >=0  and round(pop_median_rtt - gs_median_rtt) <=1 :\n",
    "            dist = hs.haversine(prb_coords, pop_coords)\n",
    "            rounded_dist = round(dist)\n",
    "\n",
    "            if rounded_dist not in dist_to_rtt:\n",
    "                dist_to_rtt[rounded_dist] = []\n",
    "\n",
    "            dist_to_rtt[rounded_dist] += tracert['gs_rtts']\n",
    "          \n",
    "        \n"
   ]
  },
  {
   "cell_type": "markdown",
   "metadata": {},
   "source": [
    "## Plotting Starlink Dishy to GS RTT vs Distance data"
   ]
  },
  {
   "cell_type": "code",
   "execution_count": 13,
   "metadata": {},
   "outputs": [
    {
     "data": {
      "text/plain": [
       "[<matplotlib.lines.Line2D at 0x3a4e9db50>]"
      ]
     },
     "execution_count": 13,
     "metadata": {},
     "output_type": "execute_result"
    },
    {
     "data": {
      "image/png": "[encoded data removed]",
      "text/plain": [
       "<Figure size 340x120 with 1 Axes>"
      ]
     },
     "metadata": {},
     "output_type": "display_data"
    }
   ],
   "source": [
    "distances = []\n",
    "median_rtts = []\n",
    "\n",
    "rcParams[\"font.size\"] = 8\n",
    "fig, ax = plt.subplots(figsize=(3.4, 1.2))\n",
    "\n",
    "for dist, rtt_list in dist_to_rtt.items():\n",
    "    if len(rtt_list) >= 1000:\n",
    "        median_rtt = statistics.median(rtt_list)\n",
    "        if dist > 0:\n",
    "            distances.append(dist)\n",
    "            median_rtts.append(median_rtt)\n",
    "\n",
    "x=np.array(distances)\n",
    "y=np.array(median_rtts)\n",
    "ax.scatter(x,y, s= 7)\n",
    "ax.yaxis.set_ticks(np.arange(10,100,10))\n",
    "\n",
    "slope, intercept, r_value, p_value, std_err = stats.linregress(distances, median_rtts)\n",
    "dist_rtt_bestfitline = [slope*x + intercept for x in distances]\n",
    "plt.xlabel(\"Distance from UE to GS [kms]\")\n",
    "plt.ylabel(\"Median RTT [ms]\")\n",
    "plt.plot(x, slope*x + intercept, color=\"r\")\n",
    "plt.savefig(\"Figs/Last_mile_vs_POPdistance.pdf\", bbox_inches = \"tight\", pad_inches = 0)\n",
    "plt.savefig(\"Figs/Last_mile_vs_POPdistance.svg\", bbox_inches = \"tight\", pad_inches = 0)"
   ]
  },
  {
   "cell_type": "markdown",
   "metadata": {},
   "source": [
    "## Plotting Starlink last-mile RTT performance - a latitudinal comparison "
   ]
  },
  {
   "cell_type": "code",
   "execution_count": 14,
   "metadata": {},
   "outputs": [
    {
     "data": {
      "image/png": "[encoded data removed]",
      "text/plain": [
       "<Figure size 345x100 with 1 Axes>"
      ]
     },
     "metadata": {},
     "output_type": "display_data"
    }
   ],
   "source": [
    "ripe_abs_prb_new = {}\n",
    "ripe_var_prb_new = {}\n",
    "\n",
    "def adjust_box(plot,idx):\n",
    "    for i in range(1):\n",
    "        plt.setp(plot['boxes'][i], facecolor=cols[idx+1], linewidth=1)\n",
    "        plt.setp(plot['medians'][i], color='yellow')\n",
    "\n",
    "for tracert in first_hop_filtered_json_list:\n",
    "    prb_id = tracert['prb_id']\n",
    "    if prb_id not in ripe_abs_prb_new:\n",
    "        ripe_abs_prb_new[prb_id] = []\n",
    "        ripe_var_prb_new[prb_id] = []\n",
    "    if len(tracert['gs_rtts']):\n",
    "        ripe_abs_prb_new[prb_id] += tracert['gs_rtts']\n",
    "        ripe_var_prb_new[prb_id].append(stats.variation(tracert['gs_rtts']))\n",
    "\n",
    "\n",
    "fig, ax = plt.subplots(figsize=(3.45, 1.0))\n",
    "i = 0\n",
    "probes = []\n",
    "for prb_id in [61113, 11585, 55492, 17979, 1002750,][::-1]:\n",
    "    width = 0.3\n",
    "    bp = ax.boxplot(ripe_abs_prb_new[prb_id], positions=[i,], showfliers=False,  patch_artist=True, widths=width, vert=False)\n",
    "    i += 1\n",
    "    adjust_box(bp,i)\n",
    "    probes.append(prb_id)\n",
    "    letters = [\"A\", \"B\", \"C\", \"D\", \"E\"][::-1]\n",
    "plt.grid(True, axis=\"x\", linestyle=\"--\")\n",
    "ax.set_yticks(np.arange(0, len(probes), 1))\n",
    "ax.set_yticklabels(letters)\n",
    "ax.set_xticks(np.arange(20, 180, 20))\n",
    "ax.set_xticklabels([20,40,60,80,100,120,140,160])\n",
    "ax.set_xlabel(\"Bent-pipe latency [ms]\")\n",
    "# ax.set_ylabel(\"Probes\")\n",
    "[ax.axhline(x+.5,color='k', alpha=0.3) for x in ax.get_yticks()]\n",
    "plt.savefig(\"Figs/ripe_last_mile_probe_lat_location_New.pdf\", bbox_inches = \"tight\", pad_inches = 0)\n",
    "plt.savefig(\"Figs/ripe_last_mile_probe_lat_location_New.svg\", bbox_inches = \"tight\", pad_inches = 0)\n",
    "plt.show()"
   ]
  },
  {
   "cell_type": "markdown",
   "metadata": {},
   "source": [
    "## Plotting RIPE Atlas Global vantage points and Mlab measurement density per country"
   ]
  },
  {
   "cell_type": "code",
   "execution_count": 16,
   "metadata": {},
   "outputs": [
    {
     "name": "stderr",
     "output_type": "stream",
     "text": [
      "/var/folders/6h/lb4zy10n69qgx1bpl1s10qp00000gn/T/ipykernel_2042/2139680497.py:16: FutureWarning: The geopandas.dataset module is deprecated and will be removed in GeoPandas 1.0. You can get the original 'naturalearth_lowres' data from https://www.naturalearthdata.com/downloads/110m-cultural-vectors/.\n",
      "  world = geopandas.read_file(geopandas.datasets.get_path(\"naturalearth_lowres\"))\n"
     ]
    },
    {
     "name": "stdout",
     "output_type": "stream",
     "text": [
      "Index(['pop_est', 'continent', 'name', 'iso_a3', 'gdp_md_est', 'geometry'], dtype='object')\n"
     ]
    },
    {
     "name": "stderr",
     "output_type": "stream",
     "text": [
      "/var/folders/6h/lb4zy10n69qgx1bpl1s10qp00000gn/T/ipykernel_2042/2139680497.py:64: UserWarning: This figure includes Axes that are not compatible with tight_layout, so results might be incorrect.\n",
      "  fig.tight_layout()\n"
     ]
    },
    {
     "data": {
      "image/png": "[encoded data removed]",
      "text/plain": [
       "<Figure size 466x200 with 2 Axes>"
      ]
     },
     "metadata": {},
     "output_type": "display_data"
    }
   ],
   "source": [
    "mlab_probes_dict = {}\n",
    "mlab_df = pd.read_csv(f'{base_folder}/mlab_agg/mlab_starlink_country_agg.csv')\n",
    "\n",
    "for _, row in mlab_df.iterrows():\n",
    "    if row['CountryName'] not in mlab_probes_dict:\n",
    "        mlab_probes_dict[row['CountryName']] = 0\n",
    "    mlab_probes_dict[row['CountryName']] += row['count_measurements']\n",
    "\n",
    "rcParams[\"font.size\"] = 10\n",
    "rcParams[\"font.family\"] = \"CMU Sans Serif\"\n",
    "gs_df = pd.read_csv(f'{base_folder}/ripe_prb_details/all_final_prb_details_new.csv')\n",
    "controlled_df = pd.read_csv(f'{base_folder}/ripe_prb_details/controlled_prb_details.csv')\n",
    "gdf = geopandas.GeoDataFrame(gs_df, geometry=geopandas.points_from_xy(gs_df.longitude, gs_df.latitude))\n",
    "gdf_controlled = geopandas.GeoDataFrame(controlled_df, geometry=geopandas.points_from_xy(controlled_df.longitude, controlled_df.latitude))\n",
    "\n",
    "world = geopandas.read_file(geopandas.datasets.get_path(\"naturalearth_lowres\"))\n",
    "world = world[(world.name!=\"Antarctica\")]\n",
    "print(world.keys())\n",
    "\n",
    "countries_plotted = set()\n",
    "mlab_density = []\n",
    "for name, code in zip(world[\"name\"], world[\"iso_a3\"]):    \n",
    "    if name in mlab_probes_dict:\n",
    "        mlab_density.append(mlab_probes_dict[name])\n",
    "        countries_plotted.add(name)\n",
    "    elif code == \"-99\":\n",
    "        mlab_density.append(float(\"NaN\"))\n",
    "    else:\n",
    "        mlab_density.append(float(\"nan\"))\n",
    "\n",
    "\n",
    "\n",
    "world[\"mlab\"] = mlab_density\n",
    "fig, ax = plt.subplots(figsize=(4.66, 2), subplot_kw={'projection': ccrs.PlateCarree()})\n",
    "\n",
    "cmap = pltColors.ListedColormap(cols[:-4])\n",
    "total_bins = [2**x for x in range(24)]\n",
    "handles = []\n",
    "ripe_handles = [Line2D([0], [0], marker=\"o\", color=\"w\", markerfacecolor=cols[3], markeredgecolor=\"black\", markeredgewidth=0.3)\n",
    "           for i in range(1)]\n",
    "labels = [\"RIPE Atlas\"]\n",
    "handles = ripe_handles\n",
    "ax.coastlines(linewidth=0.5)\n",
    "world.plot(column=\"mlab\", cmap='RdBu', scheme='UserDefined', classification_kwds=dict(bins=total_bins),\n",
    "           ax=ax, alpha=0.8,)\n",
    "gdf.plot(marker=\"o\", facecolor=cols[3], edgecolor=\"black\", ax=ax, markersize=30, linewidth=0.3, alpha=0.9)\n",
    "ax.set_extent([-180, 180, -60, 90], ccrs.PlateCarree())\n",
    "ax.get_xaxis().set_ticks([])\n",
    "ax.get_yaxis().set_ticks([])\n",
    "\n",
    "ax.legend(handles, labels, handlelength=1, labelspacing=0.06, columnspacing=0.5, handletextpad=0.3,\n",
    "          loc=\"lower left\", fancybox=False, edgecolor=\"k\", fontsize=\"small\")\n",
    "\n",
    "\n",
    "# Create colorbar as a legend\n",
    "sm = plt.cm.ScalarMappable(norm=pltColors.LogNorm(vmin=1, vmax=8388608), cmap='RdBu') \n",
    "# Empty array for the data range\n",
    "sm._A = []\n",
    "# Add the colorbar to the figure\n",
    "cbaxes = fig.add_axes([-0.022, 0.10, 0.02, 0.8])\n",
    "cbar = fig.colorbar(sm, cax=cbaxes)\n",
    "cbar.set_label(\"M-lab measurements\", labelpad = -37)\n",
    "# cbar.ax.get_yaxis.set_ticks([])\n",
    "fig.tight_layout()\n",
    "plt.savefig(\"Figs/global_vantage_points.pdf\", bbox_inches = \"tight\", pad_inches = 0.1)\n",
    "plt.savefig(\"Figs/global_vantage_points.svg\", bbox_inches = \"tight\", pad_inches = 0.1)\n",
    "plt.show()"
   ]
  },
  {
   "cell_type": "markdown",
   "metadata": {},
   "source": [
    "## Plotting per-country GS to POP RTT performance"
   ]
  },
  {
   "cell_type": "code",
   "execution_count": 17,
   "metadata": {},
   "outputs": [
    {
     "name": "stderr",
     "output_type": "stream",
     "text": [
      "/var/folders/6h/lb4zy10n69qgx1bpl1s10qp00000gn/T/ipykernel_2042/4006769974.py:34: FutureWarning: The geopandas.dataset module is deprecated and will be removed in GeoPandas 1.0. You can get the original 'naturalearth_lowres' data from https://www.naturalearthdata.com/downloads/110m-cultural-vectors/.\n",
      "  world = geopandas.read_file(geopandas.datasets.get_path(\"naturalearth_lowres\"))\n"
     ]
    },
    {
     "data": {
      "image/png": "[encoded data removed]",
      "text/plain": [
       "<Figure size 466x200 with 1 Axes>"
      ]
     },
     "metadata": {},
     "output_type": "display_data"
    }
   ],
   "source": [
    "country_rtt_diff_map = {}\n",
    "code_country_json = json.load(open(f\"{base_folder}/common/code_to_country_name.json\",\"r\"))\n",
    "\n",
    "for tracert in first_hop_filtered_json_list:\n",
    "    country = tracert['country_code']\n",
    "    \n",
    "    gs_ips_rtt = []\n",
    "    pop_ips_rtt = []\n",
    "\n",
    "    gs_ips_rtt += tracert['gs_rtts']\n",
    "\n",
    "    pop_ips_rtt += tracert['pop_rtts']\n",
    "\n",
    "    if len(gs_ips_rtt) and len(pop_ips_rtt):\n",
    "        \n",
    "        median_gs_rtt = statistics.median(gs_ips_rtt)\n",
    "        median_pop_rtt= statistics.median(pop_ips_rtt)\n",
    "        if median_pop_rtt >= median_gs_rtt:\n",
    "            if country not in country_rtt_diff_map:\n",
    "                country_rtt_diff_map[country] = []\n",
    "            country_rtt_diff_map[country].append(median_pop_rtt - median_gs_rtt)\n",
    "        gs_ips_rtt.clear()\n",
    "        pop_ips_rtt.clear()\n",
    "            \n",
    "\n",
    "\n",
    "country_median_rtt_diff = {}\n",
    "\n",
    "for code, rtt_list in country_rtt_diff_map.items():\n",
    "    country_name = code_country_json[code]\n",
    "    country_median_rtt_diff[country_name] = statistics.median(rtt_list)\n",
    "\n",
    "cols = plt.get_cmap(\"tab10\").colors\n",
    "world = geopandas.read_file(geopandas.datasets.get_path(\"naturalearth_lowres\"))\n",
    "world = world[(world.name!=\"Antarctica\")]\n",
    "\n",
    "\n",
    "rtt_diff_latency = []\n",
    "for name, code in zip(world[\"name\"], world[\"iso_a3\"]):\n",
    "        \n",
    "    if name in country_median_rtt_diff:\n",
    "        rtt_diff_latency.append(country_median_rtt_diff[name])\n",
    "\n",
    "    elif code == \"-99\":\n",
    "        rtt_diff_latency.append(float(\"nan\"))\n",
    "    else:\n",
    "        rtt_diff_latency.append(float(\"nan\"))\n",
    "\n",
    "\n",
    "\n",
    "world[\"rtt_diff\"] = rtt_diff_latency\n",
    "fig, ax = plt.subplots(figsize=(4.66, 2), subplot_kw={'projection': ccrs.PlateCarree()})\n",
    "\n",
    "cmap = pltColors.ListedColormap(cols[:-5])\n",
    "\n",
    "labels = [\"$<$4 ms\", \"4-5 ms\", \"5-6 ms\", \"6-7 ms\", \"7-8 ms\"]\n",
    "ax.coastlines(linewidth=0.5)\n",
    "world.plot(facecolor =\"white\", edgecolor=\"black\", ax=ax, linewidth=0.2)\n",
    "world.plot(column=\"rtt_diff\", cmap=cmap, scheme='UserDefined', classification_kwds=dict(bins=[4,5,6,7,8]),\n",
    "           ax=ax, alpha=0.8,)\n",
    "\n",
    "ax.set_extent([-180, 180, -60, 90], ccrs.PlateCarree())\n",
    "ax.get_xaxis().set_ticks([])\n",
    "ax.get_yaxis().set_ticks([])\n",
    "\n",
    "handles = [Line2D([0], [0], marker=\"o\", color=\"w\", markerfacecolor=col)\n",
    "           for col in cols]\n",
    "\n",
    "ax.legend(handles, labels, handlelength=1, labelspacing=0.06, columnspacing=0.5, handletextpad=0.3,\n",
    "          loc=\"lower left\", fancybox=False, edgecolor=\"k\", fontsize=\"small\")\n",
    "\n",
    "plt.savefig(\"Figs/ripe_gs_to_pop_latency.pdf\", bbox_inches = \"tight\", pad_inches = 0.1)\n",
    "plt.savefig(\"Figs/ripe_gs_to_pop_latency.svg\", bbox_inches = \"tight\", pad_inches = 0.1)\n",
    "fig.tight_layout()\n",
    "plt.show()"
   ]
  },
  {
   "cell_type": "markdown",
   "metadata": {},
   "source": [
    "## Plotting Starlink ISL comparison"
   ]
  },
  {
   "cell_type": "code",
   "execution_count": 18,
   "metadata": {},
   "outputs": [
    {
     "data": {
      "image/png": "[encoded data removed]",
      "text/plain": [
       "<Figure size 340x125 with 1 Axes>"
      ]
     },
     "metadata": {},
     "output_type": "display_data"
    }
   ],
   "source": [
    "tracert_breakup_60797 = {\n",
    "    \"UE to GS\" :[],\n",
    "    \"GS to PoP\" : [],\n",
    "    \"PoP to Dest.\": [],\n",
    "}\n",
    "\n",
    "for tracert in first_hop_filtered_json_list:\n",
    "    prb_id = tracert['prb_id']\n",
    "    dst_addr = tracert['dst_addr']\n",
    "\n",
    "    if prb_id == 60797 and dst_addr == \"13.245.232.79\":\n",
    "        if len(tracert[\"gs_rtts\"]) and len(tracert[\"pop_rtts\"]) and len(tracert[\"total_rtts\"]):\n",
    "            tracert_breakup_60797[\"UE to GS\"] += tracert['gs_rtts']\n",
    "            median_gs_rtt = statistics.median(tracert[\"gs_rtts\"])\n",
    "            median_pop_rtt = statistics.median(tracert[\"pop_rtts\"])\n",
    "            if median_pop_rtt > median_gs_rtt:\n",
    "                tracert_breakup_60797[\"GS to PoP\"].append(median_pop_rtt - median_gs_rtt)\n",
    "            median_total_rtt = statistics.median(tracert[\"total_rtts\"])\n",
    "            if median_total_rtt > median_pop_rtt:\n",
    "                tracert_breakup_60797[\"PoP to Dest.\"].append(median_total_rtt - median_pop_rtt)\n",
    "\n",
    "tracert_breakup_EU = {\n",
    "    \"UE to GS\" :[],\n",
    "    \"GS to PoP\" : [],\n",
    "    \"PoP to Dest.\": [],\n",
    "}\n",
    "\n",
    "for tracert in first_hop_filtered_json_list:\n",
    "    prb_id = tracert['prb_id']\n",
    "    dst_addr = tracert['dst_addr']\n",
    "\n",
    "    if prb_id == 60323 and dst_addr == \"13.245.232.79\":\n",
    "        if len(tracert[\"gs_rtts\"]) and len(tracert[\"gw_rtts\"]) and len(tracert[\"pop_rtts\"]) and len(tracert[\"total_rtts\"]):\n",
    "            tracert_breakup_EU[\"UE to GS\"] += tracert['gs_rtts']\n",
    "            median_gs_rtt = statistics.median(tracert[\"gs_rtts\"])\n",
    "            median_pop_rtt = statistics.median(tracert[\"pop_rtts\"])\n",
    "            if median_pop_rtt > median_gs_rtt:\n",
    "                tracert_breakup_EU[\"GS to PoP\"].append(median_pop_rtt - median_gs_rtt)\n",
    "            median_total_rtt = statistics.median(tracert[\"total_rtts\"])\n",
    "            if median_total_rtt > median_pop_rtt:\n",
    "                tracert_breakup_EU[\"PoP to Dest.\"].append(median_total_rtt - median_pop_rtt)\n",
    "\n",
    "terrestrial_tracert_RU_json = json.load(open(f\"{base_folder}/isl_msms/AWS_ec2_traceroute_id_61502773_RU.json\", \"r\"))\n",
    "terrestrial_RTT_to_FRA = []\n",
    "dst_server_ip = \"3.70.191.175\"\n",
    "for tracert in terrestrial_tracert_RU_json:\n",
    "    if len(tracert['result']):\n",
    "        last_hop = tracert['result'][-1]\n",
    "        for result in last_hop['result']:\n",
    "            if 'from' in result:\n",
    "                if result['from'] == dst_server_ip:\n",
    "                    terrestrial_RTT_to_FRA.append(result['rtt'])\n",
    "\n",
    "terrestrial_tracert_DE_json = json.load(open(f\"{base_folder}/isl_msms/AWS_ec2_traceroute_id_61653870_DE.json\", \"r\"))\n",
    "terrestrial_RTT_within_DE = []\n",
    "dst_server_ip = \"3.70.191.175\"\n",
    "for tracert in terrestrial_tracert_DE_json:\n",
    "    if len(tracert['result']):\n",
    "        last_hop = tracert['result'][-1]\n",
    "        for result in last_hop['result']:\n",
    "            if result['from'] == dst_server_ip:\n",
    "                terrestrial_RTT_within_DE.append(result['rtt'])\n",
    "\n",
    "\n",
    "portions = []\n",
    "def adjust_box(plot,idx):\n",
    "    for i in range(1):\n",
    "        plt.setp(plot['boxes'][i], facecolor=cols[idx+1], linewidth=1)\n",
    "        plt.setp(plot['medians'][i], color='yellow')\n",
    "\n",
    "fig, ax = plt.subplots(figsize=(3.4, 1.25))\n",
    "i = 0\n",
    "pos_idx = 0\n",
    "for msm in list(tracert_breakup_EU.keys())[::-1]:\n",
    "    if msm == \"PoP to Dest.\":\n",
    "        continue\n",
    "    width = 0.3\n",
    "    bp = ax.boxplot(tracert_breakup_EU[msm], positions=[pos_idx,], showfliers=False,  patch_artist=True, widths=width, vert=False)\n",
    "    pos_idx += 1\n",
    "    i += 1\n",
    "    adjust_box(bp,i)\n",
    "    portions.append(msm + \" (DE)\")\n",
    "i = 0\n",
    "for msm in list(tracert_breakup_60797.keys())[::-1]:\n",
    "    if msm == \"PoP to Dest.\":\n",
    "        continue\n",
    "    width = 0.3\n",
    "    bp = ax.boxplot(tracert_breakup_60797[msm], positions=[pos_idx,], showfliers=False,  patch_artist=True, widths=width, vert=False)\n",
    "    pos_idx += 1\n",
    "    i += 1\n",
    "    adjust_box(bp,i)\n",
    "    portions.append(msm + \" (RU)\")\n",
    "\n",
    "\n",
    "ax.axvline(statistics.median(terrestrial_RTT_to_FRA), color=\"blue\", alpha=0.4)\n",
    "ax.axvline(statistics.median(terrestrial_RTT_within_DE), color=\"brown\", alpha=0.4)\n",
    "plt.grid(True, axis=\"x\", linestyle=\"--\")\n",
    "ax.set_yticks(np.arange(0, len(portions), 1))\n",
    "ax.set_yticklabels(portions)\n",
    "ax.set_xlabel(\"RTT [ms]\")\n",
    "ax.axhspan(1.5, 3.5, facecolor=cols[8], alpha=0.6)\n",
    "ax.axhspan(-0.5, 1.5, facecolor=cols[3], alpha=0.6)\n",
    "ax.axhline(1.5, color='k', alpha =0.3)\n",
    "ax.text(130, 3.7, 'Fiber (RU-DE)', style='italic', color = \"blue\")\n",
    "ax.text(-45, 3.7, 'Fiber (DE-DE)', style='italic', color = \"brown\")\n",
    "plt.savefig(\"Figs/isl_vs_non_isl_vs_terrestrial.pdf\", bbox_inches = \"tight\", pad_inches = 0)\n",
    "plt.savefig(\"Figs/isl_vs_non_isl_vs_terrestrial.svg\", bbox_inches = \"tight\", pad_inches = 0)\n",
    "plt.show()\n"
   ]
  }
 ],
 "metadata": {
  "kernelspec": {
   "display_name": "Python 3 (ipykernel)",
   "language": "python",
   "name": "python3"
  },
  "language_info": {
   "codemirror_mode": {
    "name": "ipython",
    "version": 3
   },
   "file_extension": ".py",
   "mimetype": "text/x-python",
   "name": "python",
   "nbconvert_exporter": "python",
   "pygments_lexer": "ipython3",
   "version": "3.9.6"
  }
 },
 "nbformat": 4,
 "nbformat_minor": 4
}
